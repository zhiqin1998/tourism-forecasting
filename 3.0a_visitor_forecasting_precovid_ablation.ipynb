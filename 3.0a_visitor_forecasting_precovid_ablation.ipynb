{
 "cells": [
  {
   "cell_type": "code",
   "execution_count": 1,
   "id": "34b193db-3807-45b1-a50c-02d3fd0ef6d9",
   "metadata": {},
   "outputs": [],
   "source": [
    "import os\n",
    "import time\n",
    "import pickle\n",
    "import scipy\n",
    "import numpy as np \n",
    "import pandas as pd \n",
    "import matplotlib.pyplot as plt\n",
    "import seaborn as sns\n",
    "import statsmodels.api as sm\n",
    "import warnings\n",
    "import torch\n",
    "import torch.optim as optim\n",
    "\n",
    "from torch import nn\n",
    "from torch.utils.data import Dataset, DataLoader\n",
    "from sklearn.metrics import mean_squared_error, r2_score, mean_absolute_percentage_error, mean_absolute_error\n",
    "from sklearn.preprocessing import StandardScaler, MinMaxScaler, FunctionTransformer\n",
    "from sklearn.model_selection import train_test_split, TimeSeriesSplit, KFold, StratifiedKFold\n",
    "from category_encoders import TargetEncoder, OneHotEncoder\n",
    "from statsmodels.tsa.seasonal import STL, seasonal_decompose\n",
    "from math import sqrt\n",
    "from datetime import datetime"
   ]
  },
  {
   "cell_type": "code",
   "execution_count": 2,
   "id": "fa249289-db1d-4980-930e-bad2b6f02f3d",
   "metadata": {},
   "outputs": [],
   "source": [
    "from src.utils import check_stationarity, get_scaler, get_sample_weight, load_word2vec_embeddings, get_torch_optimizer, dummy_lagged_df, mase_loss, mean_absolute_scaled_error, compute_mase_scale, get_torch_criterion, get_confidence_interval, winkler_score\n",
    "from src.arima import grid_search_arima\n",
    "from src.sarimax import grid_search_sarimax\n",
    "from src.ml_model import grid_search_ml, get_model, one_step_prediction as one_step_ml_prediction\n",
    "from src.rnn import train_rnn, eval_rnn, one_step_prediction, grid_search_rnn, TimeSeriesDataset, ForecastModel"
   ]
  },
  {
   "cell_type": "markdown",
   "id": "948462ef-d98d-462f-b74d-ea0ec8c45fe8",
   "metadata": {},
   "source": [
    "# Ablation Study on Temporal Features\n",
    "Precovid Sanity Test (Experiment 1)"
   ]
  },
  {
   "cell_type": "code",
   "execution_count": 3,
   "id": "d340a58a-a117-4cb7-9baa-41e0522f07dc",
   "metadata": {},
   "outputs": [],
   "source": [
    "country_list = ['Canada', 'Chile', 'Mexico', 'Chinese Taipei', 'Hong Kong SAR', 'Japan', \n",
    "                'Korea (ROK)', 'Macao, China', 'Maldives', 'Cambodia', 'Indonesia', 'Singapore', \n",
    "                'New Zealand', 'USA', 'Thailand', 'Turkey', 'Australia', 'Hawaii', 'Austria', 'Czech']\n",
    "\n",
    "imputed_dir = './data/imputed/'"
   ]
  },
  {
   "cell_type": "markdown",
   "id": "9af19cc5-41d3-4495-888c-c31113ccc4df",
   "metadata": {},
   "source": [
    "# Preprocessing Data"
   ]
  },
  {
   "cell_type": "code",
   "execution_count": 4,
   "id": "677803cd-2dc7-4f39-a078-f071bc096199",
   "metadata": {},
   "outputs": [],
   "source": [
    "target = 'VisitorArrivals'\n",
    "candidates = ['FXAgainstChina', 'CovidCases', 'CovidDeaths', 'FSI',\n",
    "               'GDPPerCap', 'GDP', 'Population',\n",
    "               'TravelPolicy', 'Temperature', 'Precipitation', 'GlobalCovidTrend',\n",
    "               'DistFromChina', 'Country', 'GDPRatioChina',\n",
    "               'GDPPerCapRatioChina', 'GDPGrowthDiffChina', 'GDPPerCapGrowthDiffChina',\n",
    "               'ChinaConfinementPolicy', 'ChinaMovementPolicy', 'ChinaGDPPerCap',\n",
    "               'ChinaGDP']\n",
    "def load_data(country='Japan', csv_dir='./data/imputed', log_transform=True, dropna=True, remove_covid=False):\n",
    "    df = pd.read_csv(os.path.join(csv_dir, f'{country}.csv'))\n",
    "    if dropna:\n",
    "        df = df.iloc[df['VisitorArrivals'].first_valid_index():].reset_index(drop=True)\n",
    "    if log_transform:\n",
    "        df['VisitorArrivals'] = np.log1p(df['VisitorArrivals'])\n",
    "    df['Date'] = pd.to_datetime(df['Date'])\n",
    "    if remove_covid:\n",
    "        # df = df[df['Date'] < ('2019-07-01' if country in ['Hong Kong SAR', 'Chinese Taipei'] else '2020-01-01')]\n",
    "        df = df[df['Date'] < '2020-01-01']\n",
    "    df = df.set_index('Date').asfreq('MS')\n",
    "    return df[candidates + [target]]"
   ]
  },
  {
   "cell_type": "code",
   "execution_count": 5,
   "id": "ef09febf-d34c-4129-80c0-ffa71ea3b691",
   "metadata": {
    "scrolled": true,
    "tags": []
   },
   "outputs": [
    {
     "name": "stdout",
     "output_type": "stream",
     "text": [
      "<class 'pandas.core.frame.DataFrame'>\n",
      "DatetimeIndex: 331 entries, 1997-01-01 to 2024-07-01\n",
      "Freq: MS\n",
      "Data columns (total 22 columns):\n",
      " #   Column                    Non-Null Count  Dtype  \n",
      "---  ------                    --------------  -----  \n",
      " 0   FXAgainstChina            331 non-null    float64\n",
      " 1   CovidCases                319 non-null    float64\n",
      " 2   CovidDeaths               319 non-null    float64\n",
      " 3   FSI                       331 non-null    float64\n",
      " 4   GDPPerCap                 331 non-null    float64\n",
      " 5   GDP                       331 non-null    float64\n",
      " 6   Population                331 non-null    float64\n",
      " 7   TravelPolicy              331 non-null    float64\n",
      " 8   Temperature               331 non-null    float64\n",
      " 9   Precipitation             331 non-null    float64\n",
      " 10  GlobalCovidTrend          331 non-null    float64\n",
      " 11  DistFromChina             331 non-null    float64\n",
      " 12  Country                   331 non-null    object \n",
      " 13  GDPRatioChina             331 non-null    float64\n",
      " 14  GDPPerCapRatioChina       331 non-null    float64\n",
      " 15  GDPGrowthDiffChina        331 non-null    float64\n",
      " 16  GDPPerCapGrowthDiffChina  331 non-null    float64\n",
      " 17  ChinaConfinementPolicy    331 non-null    float64\n",
      " 18  ChinaMovementPolicy       331 non-null    float64\n",
      " 19  ChinaGDPPerCap            331 non-null    float64\n",
      " 20  ChinaGDP                  331 non-null    float64\n",
      " 21  VisitorArrivals           316 non-null    float64\n",
      "dtypes: float64(21), object(1)\n",
      "memory usage: 59.5+ KB\n"
     ]
    }
   ],
   "source": [
    "df = load_data()\n",
    "df.info()"
   ]
  },
  {
   "cell_type": "code",
   "execution_count": 6,
   "id": "31229e8a-4d9e-43a2-9c48-25e9e9b13fdd",
   "metadata": {},
   "outputs": [],
   "source": [
    "from src.utils import get_seasonal_component, inverse_target\n",
    "#load all data and decomposed precovid seasonality\n",
    "def load_and_preprocess_all(test_size=0, deduct_seasonality=True, single_x_scaler=False, single_y_scaler=False, scaler_type='standard', remove_covid=False):\n",
    "    all_data = {country: load_data(country, remove_covid=remove_covid) for country in country_list}\n",
    "    all_decomposed_seasonal = {country: seasonal_decompose(df[df.index < '2020-01-01']['VisitorArrivals'], period=12) for country, df in all_data.items()}\n",
    "    \n",
    "    x_scaler, y_scaler = {}, {}\n",
    "    #some feature engineering and processing\n",
    "    for country in country_list:\n",
    "        all_data[country]['Popularity'] = all_data[country]['VisitorArrivals'].median()\n",
    "        all_data[country]['Unrest'] = 0.\n",
    "        all_data[country]['TravelRestriction'] = (all_data[country][['TravelPolicy', 'ChinaConfinementPolicy', 'ChinaMovementPolicy']] > 0).all(axis=1).astype(int)\n",
    "        \n",
    "        all_data[country]['Year'] = all_data[country].index.year\n",
    "        all_data[country]['MonthSin'] = np.sin(2 * np.pi * (all_data[country].index.month - 1) / 12.0)\n",
    "        all_data[country]['MonthCos'] = np.cos(2 * np.pi * (all_data[country].index.month - 1) / 12.0)\n",
    "        \n",
    "        all_data[country]['Month'] = all_data[country].index.month.astype(int)\n",
    "        dummy_month = pd.get_dummies(all_data[country]['Month'].astype(str), prefix='Month', dtype=float)\n",
    "        all_data[country][dummy_month.columns] = dummy_month\n",
    "        \n",
    "        if deduct_seasonality:\n",
    "            # remove seasonality\n",
    "            seasonal_component = get_seasonal_component(all_decomposed_seasonal[country], len(all_data[country]))\n",
    "            assert len(seasonal_component) == len(all_data[country])\n",
    "            seasonal_component.index = all_data[country].index\n",
    "            all_data[country]['VisitorArrivals'] -= seasonal_component\n",
    "            \n",
    "        # 1. taiwan ban china starting september 2019 - january 2024 election\n",
    "        # 2. hong kong protest starting august 2019 end mid 2020\n",
    "        # 3. china ban korea starting march 2017 - nov 2017\n",
    "        # 4. singapore and thailand april 2014 - jan 2015\n",
    "        # 5. sars world april 2003 - july 2003\n",
    "        # 6. hawaii and USA trump presidential between november 2016 to january 2021\n",
    "        # 7. turkey coup 2016\n",
    "        if country == 'Chinese Taipei':\n",
    "            all_data[country].loc[(all_data[country].index >= '2019-09-01') & (all_data[country].index <= '2024-02-01'), 'TravelRestriction'] = 1\n",
    "        elif country == 'Hong Kong SAR':\n",
    "            all_data[country].loc[(all_data[country].index >= '2019-08-01') & (all_data[country].index <= '2020-06-01'), 'Unrest'] = 1.\n",
    "        elif country == 'Korea (ROK)':\n",
    "            all_data[country].loc[(all_data[country].index >= '2017-03-01') & (all_data[country].index <= '2017-11-01'), 'TravelRestriction'] = 1\n",
    "        elif country in ['Singapore', 'Thailand']:\n",
    "            all_data[country].loc[(all_data[country].index >= '2014-04-01') & (all_data[country].index <= '2015-01-01'), 'Unrest'] = 1.\n",
    "        elif country in ['Hawaii', 'USA']:\n",
    "            all_data[country].loc[(all_data[country].index >= '2016-11-01') & (all_data[country].index <= '2021-01-01'), 'Unrest'] = 0.5\n",
    "        elif country == 'Turkey':\n",
    "            all_data[country].loc[(all_data[country].index >= '2015-12-01') & (all_data[country].index <= '2017-02-01'), 'Unrest'] = 1.\n",
    "            \n",
    "        all_data[country].loc[(all_data[country].index >= '2003-04-01') & (all_data[country].index <= '2003-07-01'), 'Unrest'] = 1. # SARS\n",
    "\n",
    "        # assume covid case and deaths exponentially reduce\n",
    "        for c in ['CovidCases', 'CovidDeaths']:\n",
    "            all_data[country][c] = all_data[country][c].fillna(all_data[country][c].ffill()[all_data[country][c].isnull()].mul((1/2)**(all_data[country][c].groupby(all_data[country][c].notnull().cumsum()).cumcount()), 0)).round()\n",
    "    \n",
    "    country_feat = ['GDPPerCap', 'GDP', 'Population', 'CovidCases', 'CovidDeaths', \n",
    "                    'Temperature', 'Precipitation',]  # only normalize country specific features, other features are universal which will be normalize separately\n",
    "    if single_x_scaler:\n",
    "        temp_df = pd.concat([all_data[country][country_feat].iloc[:all_data[country][target].notna().sum()-test_size] for country in country_list], ignore_index=True)  # only fit on train that is valid\n",
    "        x_scaler = get_scaler(scaler_type)\n",
    "        x_scaler.fit(temp_df)\n",
    "        for country in country_list:\n",
    "            all_data[country][country_feat] = x_scaler.transform(all_data[country][country_feat])\n",
    "    else:\n",
    "        for country in country_list:\n",
    "            country_x_scaler = get_scaler(scaler_type)\n",
    "            country_x_scaler.fit(all_data[country][country_feat].iloc[:all_data[country][target].notna().sum()-test_size])\n",
    "            all_data[country][country_feat] = country_x_scaler.transform(all_data[country][country_feat])\n",
    "            x_scaler[country] = country_x_scaler\n",
    "    \n",
    "    universal_feat = ['FXAgainstChina', 'FSI', 'Year', 'MonthSin', 'MonthCos', 'Unrest',\n",
    "                       'TravelPolicy', 'GlobalCovidTrend',\n",
    "                       'DistFromChina', 'GDPRatioChina',\n",
    "                       'GDPPerCapRatioChina', 'GDPGrowthDiffChina', 'GDPPerCapGrowthDiffChina',\n",
    "                       'ChinaConfinementPolicy', 'ChinaMovementPolicy', 'ChinaGDPPerCap',\n",
    "                       'ChinaGDP', 'Popularity', 'TravelRestriction']\n",
    "    universal_x_scaler = get_scaler(scaler_type)\n",
    "    temp_df = pd.concat([all_data[country][universal_feat].iloc[:all_data[country][target].notna().sum()-test_size] for country in country_list], ignore_index=True)\n",
    "    universal_x_scaler.fit(temp_df)\n",
    "    for country in country_list:\n",
    "        all_data[country][universal_feat] = universal_x_scaler.transform(all_data[country][universal_feat])\n",
    "        \n",
    "    if single_y_scaler:\n",
    "        temp_df = pd.concat([all_data[country][[target]].iloc[:all_data[country][target].notna().sum()-test_size] for country in country_list], ignore_index=True) # only fit on train\n",
    "        y_scaler = get_scaler(scaler_type)\n",
    "        y_scaler.fit(temp_df)\n",
    "        for country in country_list:\n",
    "            all_data[country][[target]] = y_scaler.transform(all_data[country][[target]])\n",
    "    else:\n",
    "        for country in country_list:\n",
    "            country_y_scaler = get_scaler(scaler_type)\n",
    "            country_y_scaler.fit(all_data[country][[target]].iloc[:all_data[country][target].notna().sum()-test_size])\n",
    "            all_data[country][[target]] = country_y_scaler.transform(all_data[country][[target]])\n",
    "            y_scaler[country] = country_y_scaler\n",
    "    \n",
    "    return all_data, all_decomposed_seasonal, x_scaler, universal_x_scaler, y_scaler"
   ]
  },
  {
   "cell_type": "code",
   "execution_count": 7,
   "id": "8bdd5bea-22c6-4390-b5c5-0977c816c644",
   "metadata": {},
   "outputs": [],
   "source": [
    "deduct_seasonality = True\n",
    "single_x_scaler = False\n",
    "single_y_scaler = False\n",
    "all_data, all_decomposed_seasonal, x_scaler, universal_x_scaler, y_scaler = load_and_preprocess_all(test_size=12, deduct_seasonality=deduct_seasonality, single_x_scaler=single_x_scaler, single_y_scaler=single_y_scaler, remove_covid=True)"
   ]
  },
  {
   "cell_type": "code",
   "execution_count": 8,
   "id": "e639c8da-955d-4df2-b174-73520212cec8",
   "metadata": {},
   "outputs": [
    {
     "data": {
      "text/plain": [
       "<Axes: xlabel='Date'>"
      ]
     },
     "execution_count": 8,
     "metadata": {},
     "output_type": "execute_result"
    },
    {
     "data": {
      "image/png": "[encoded data removed]",
      "text/plain": [
       "<Figure size 640x480 with 1 Axes>"
      ]
     },
     "metadata": {},
     "output_type": "display_data"
    }
   ],
   "source": [
    "country = 'Singapore'\n",
    "all_data[country]['VisitorArrivals'].plot()"
   ]
  },
  {
   "cell_type": "code",
   "execution_count": 9,
   "id": "c540498a-e5ad-4d42-8cb5-72b0571b165d",
   "metadata": {},
   "outputs": [
    {
     "data": {
      "text/html": [
       "<div>\n",
       "<style scoped>\n",
       "    .dataframe tbody tr th:only-of-type {\n",
       "        vertical-align: middle;\n",
       "    }\n",
       "\n",
       "    .dataframe tbody tr th {\n",
       "        vertical-align: top;\n",
       "    }\n",
       "\n",
       "    .dataframe thead th {\n",
       "        text-align: right;\n",
       "    }\n",
       "</style>\n",
       "<table border=\"1\" class=\"dataframe\">\n",
       "  <thead>\n",
       "    <tr style=\"text-align: right;\">\n",
       "      <th></th>\n",
       "      <th>FXAgainstChina</th>\n",
       "      <th>CovidCases</th>\n",
       "      <th>CovidDeaths</th>\n",
       "      <th>FSI</th>\n",
       "      <th>GDPPerCap</th>\n",
       "      <th>GDP</th>\n",
       "      <th>Population</th>\n",
       "      <th>TravelPolicy</th>\n",
       "      <th>Temperature</th>\n",
       "      <th>Precipitation</th>\n",
       "      <th>...</th>\n",
       "      <th>Month_11</th>\n",
       "      <th>Month_12</th>\n",
       "      <th>Month_2</th>\n",
       "      <th>Month_3</th>\n",
       "      <th>Month_4</th>\n",
       "      <th>Month_5</th>\n",
       "      <th>Month_6</th>\n",
       "      <th>Month_7</th>\n",
       "      <th>Month_8</th>\n",
       "      <th>Month_9</th>\n",
       "    </tr>\n",
       "    <tr>\n",
       "      <th>Date</th>\n",
       "      <th></th>\n",
       "      <th></th>\n",
       "      <th></th>\n",
       "      <th></th>\n",
       "      <th></th>\n",
       "      <th></th>\n",
       "      <th></th>\n",
       "      <th></th>\n",
       "      <th></th>\n",
       "      <th></th>\n",
       "      <th></th>\n",
       "      <th></th>\n",
       "      <th></th>\n",
       "      <th></th>\n",
       "      <th></th>\n",
       "      <th></th>\n",
       "      <th></th>\n",
       "      <th></th>\n",
       "      <th></th>\n",
       "      <th></th>\n",
       "      <th></th>\n",
       "    </tr>\n",
       "  </thead>\n",
       "  <tbody>\n",
       "    <tr>\n",
       "      <th>2002-01-01</th>\n",
       "      <td>-0.258922</td>\n",
       "      <td>0.0</td>\n",
       "      <td>0.0</td>\n",
       "      <td>-0.701804</td>\n",
       "      <td>-1.933853</td>\n",
       "      <td>-1.681899</td>\n",
       "      <td>-1.598512</td>\n",
       "      <td>0.0</td>\n",
       "      <td>-0.877961</td>\n",
       "      <td>-0.362024</td>\n",
       "      <td>...</td>\n",
       "      <td>0.0</td>\n",
       "      <td>0.0</td>\n",
       "      <td>0.0</td>\n",
       "      <td>0.0</td>\n",
       "      <td>0.0</td>\n",
       "      <td>0.0</td>\n",
       "      <td>0.0</td>\n",
       "      <td>0.0</td>\n",
       "      <td>0.0</td>\n",
       "      <td>0.0</td>\n",
       "    </tr>\n",
       "    <tr>\n",
       "      <th>2002-02-01</th>\n",
       "      <td>-0.258925</td>\n",
       "      <td>0.0</td>\n",
       "      <td>0.0</td>\n",
       "      <td>-0.701804</td>\n",
       "      <td>-1.910476</td>\n",
       "      <td>-1.669684</td>\n",
       "      <td>-1.594969</td>\n",
       "      <td>0.0</td>\n",
       "      <td>-0.050308</td>\n",
       "      <td>-1.490460</td>\n",
       "      <td>...</td>\n",
       "      <td>0.0</td>\n",
       "      <td>0.0</td>\n",
       "      <td>1.0</td>\n",
       "      <td>0.0</td>\n",
       "      <td>0.0</td>\n",
       "      <td>0.0</td>\n",
       "      <td>0.0</td>\n",
       "      <td>0.0</td>\n",
       "      <td>0.0</td>\n",
       "      <td>0.0</td>\n",
       "    </tr>\n",
       "    <tr>\n",
       "      <th>2002-03-01</th>\n",
       "      <td>-0.258927</td>\n",
       "      <td>0.0</td>\n",
       "      <td>0.0</td>\n",
       "      <td>-0.701804</td>\n",
       "      <td>-1.887099</td>\n",
       "      <td>-1.657470</td>\n",
       "      <td>-1.591424</td>\n",
       "      <td>0.0</td>\n",
       "      <td>1.108406</td>\n",
       "      <td>-0.913265</td>\n",
       "      <td>...</td>\n",
       "      <td>0.0</td>\n",
       "      <td>0.0</td>\n",
       "      <td>0.0</td>\n",
       "      <td>1.0</td>\n",
       "      <td>0.0</td>\n",
       "      <td>0.0</td>\n",
       "      <td>0.0</td>\n",
       "      <td>0.0</td>\n",
       "      <td>0.0</td>\n",
       "      <td>0.0</td>\n",
       "    </tr>\n",
       "    <tr>\n",
       "      <th>2002-04-01</th>\n",
       "      <td>-0.258927</td>\n",
       "      <td>0.0</td>\n",
       "      <td>0.0</td>\n",
       "      <td>-0.701804</td>\n",
       "      <td>-1.863722</td>\n",
       "      <td>-1.645255</td>\n",
       "      <td>-1.587880</td>\n",
       "      <td>0.0</td>\n",
       "      <td>1.439467</td>\n",
       "      <td>-0.329842</td>\n",
       "      <td>...</td>\n",
       "      <td>0.0</td>\n",
       "      <td>0.0</td>\n",
       "      <td>0.0</td>\n",
       "      <td>0.0</td>\n",
       "      <td>1.0</td>\n",
       "      <td>0.0</td>\n",
       "      <td>0.0</td>\n",
       "      <td>0.0</td>\n",
       "      <td>0.0</td>\n",
       "      <td>0.0</td>\n",
       "    </tr>\n",
       "    <tr>\n",
       "      <th>2002-05-01</th>\n",
       "      <td>-0.258939</td>\n",
       "      <td>0.0</td>\n",
       "      <td>0.0</td>\n",
       "      <td>-0.701804</td>\n",
       "      <td>-1.840345</td>\n",
       "      <td>-1.633041</td>\n",
       "      <td>-1.584336</td>\n",
       "      <td>0.0</td>\n",
       "      <td>1.936058</td>\n",
       "      <td>-0.115989</td>\n",
       "      <td>...</td>\n",
       "      <td>0.0</td>\n",
       "      <td>0.0</td>\n",
       "      <td>0.0</td>\n",
       "      <td>0.0</td>\n",
       "      <td>0.0</td>\n",
       "      <td>1.0</td>\n",
       "      <td>0.0</td>\n",
       "      <td>0.0</td>\n",
       "      <td>0.0</td>\n",
       "      <td>0.0</td>\n",
       "    </tr>\n",
       "    <tr>\n",
       "      <th>...</th>\n",
       "      <td>...</td>\n",
       "      <td>...</td>\n",
       "      <td>...</td>\n",
       "      <td>...</td>\n",
       "      <td>...</td>\n",
       "      <td>...</td>\n",
       "      <td>...</td>\n",
       "      <td>...</td>\n",
       "      <td>...</td>\n",
       "      <td>...</td>\n",
       "      <td>...</td>\n",
       "      <td>...</td>\n",
       "      <td>...</td>\n",
       "      <td>...</td>\n",
       "      <td>...</td>\n",
       "      <td>...</td>\n",
       "      <td>...</td>\n",
       "      <td>...</td>\n",
       "      <td>...</td>\n",
       "      <td>...</td>\n",
       "      <td>...</td>\n",
       "    </tr>\n",
       "    <tr>\n",
       "      <th>2019-08-01</th>\n",
       "      <td>-0.259016</td>\n",
       "      <td>0.0</td>\n",
       "      <td>0.0</td>\n",
       "      <td>-1.024345</td>\n",
       "      <td>1.426329</td>\n",
       "      <td>1.490276</td>\n",
       "      <td>1.360326</td>\n",
       "      <td>0.0</td>\n",
       "      <td>0.942875</td>\n",
       "      <td>-1.415715</td>\n",
       "      <td>...</td>\n",
       "      <td>0.0</td>\n",
       "      <td>0.0</td>\n",
       "      <td>0.0</td>\n",
       "      <td>0.0</td>\n",
       "      <td>0.0</td>\n",
       "      <td>0.0</td>\n",
       "      <td>0.0</td>\n",
       "      <td>0.0</td>\n",
       "      <td>1.0</td>\n",
       "      <td>0.0</td>\n",
       "    </tr>\n",
       "    <tr>\n",
       "      <th>2019-09-01</th>\n",
       "      <td>-0.259024</td>\n",
       "      <td>0.0</td>\n",
       "      <td>0.0</td>\n",
       "      <td>-1.024345</td>\n",
       "      <td>1.400218</td>\n",
       "      <td>1.476286</td>\n",
       "      <td>1.366896</td>\n",
       "      <td>0.0</td>\n",
       "      <td>0.611814</td>\n",
       "      <td>-1.567281</td>\n",
       "      <td>...</td>\n",
       "      <td>0.0</td>\n",
       "      <td>0.0</td>\n",
       "      <td>0.0</td>\n",
       "      <td>0.0</td>\n",
       "      <td>0.0</td>\n",
       "      <td>0.0</td>\n",
       "      <td>0.0</td>\n",
       "      <td>0.0</td>\n",
       "      <td>0.0</td>\n",
       "      <td>1.0</td>\n",
       "    </tr>\n",
       "    <tr>\n",
       "      <th>2019-10-01</th>\n",
       "      <td>-0.259026</td>\n",
       "      <td>0.0</td>\n",
       "      <td>0.0</td>\n",
       "      <td>-1.024345</td>\n",
       "      <td>1.374108</td>\n",
       "      <td>1.462296</td>\n",
       "      <td>1.373464</td>\n",
       "      <td>0.0</td>\n",
       "      <td>-0.050308</td>\n",
       "      <td>-0.212535</td>\n",
       "      <td>...</td>\n",
       "      <td>0.0</td>\n",
       "      <td>0.0</td>\n",
       "      <td>0.0</td>\n",
       "      <td>0.0</td>\n",
       "      <td>0.0</td>\n",
       "      <td>0.0</td>\n",
       "      <td>0.0</td>\n",
       "      <td>0.0</td>\n",
       "      <td>0.0</td>\n",
       "      <td>0.0</td>\n",
       "    </tr>\n",
       "    <tr>\n",
       "      <th>2019-11-01</th>\n",
       "      <td>-0.259023</td>\n",
       "      <td>0.0</td>\n",
       "      <td>0.0</td>\n",
       "      <td>-1.024345</td>\n",
       "      <td>1.347998</td>\n",
       "      <td>1.448305</td>\n",
       "      <td>1.380032</td>\n",
       "      <td>0.0</td>\n",
       "      <td>-0.215839</td>\n",
       "      <td>-0.373443</td>\n",
       "      <td>...</td>\n",
       "      <td>1.0</td>\n",
       "      <td>0.0</td>\n",
       "      <td>0.0</td>\n",
       "      <td>0.0</td>\n",
       "      <td>0.0</td>\n",
       "      <td>0.0</td>\n",
       "      <td>0.0</td>\n",
       "      <td>0.0</td>\n",
       "      <td>0.0</td>\n",
       "      <td>0.0</td>\n",
       "    </tr>\n",
       "    <tr>\n",
       "      <th>2019-12-01</th>\n",
       "      <td>-0.259025</td>\n",
       "      <td>0.0</td>\n",
       "      <td>0.0</td>\n",
       "      <td>-1.024345</td>\n",
       "      <td>1.321888</td>\n",
       "      <td>1.434315</td>\n",
       "      <td>1.386601</td>\n",
       "      <td>0.0</td>\n",
       "      <td>-1.209022</td>\n",
       "      <td>1.519049</td>\n",
       "      <td>...</td>\n",
       "      <td>0.0</td>\n",
       "      <td>1.0</td>\n",
       "      <td>0.0</td>\n",
       "      <td>0.0</td>\n",
       "      <td>0.0</td>\n",
       "      <td>0.0</td>\n",
       "      <td>0.0</td>\n",
       "      <td>0.0</td>\n",
       "      <td>0.0</td>\n",
       "      <td>0.0</td>\n",
       "    </tr>\n",
       "  </tbody>\n",
       "</table>\n",
       "<p>216 rows × 41 columns</p>\n",
       "</div>"
      ],
      "text/plain": [
       "            FXAgainstChina  CovidCases  CovidDeaths       FSI  GDPPerCap  \\\n",
       "Date                                                                       \n",
       "2002-01-01       -0.258922         0.0          0.0 -0.701804  -1.933853   \n",
       "2002-02-01       -0.258925         0.0          0.0 -0.701804  -1.910476   \n",
       "2002-03-01       -0.258927         0.0          0.0 -0.701804  -1.887099   \n",
       "2002-04-01       -0.258927         0.0          0.0 -0.701804  -1.863722   \n",
       "2002-05-01       -0.258939         0.0          0.0 -0.701804  -1.840345   \n",
       "...                    ...         ...          ...       ...        ...   \n",
       "2019-08-01       -0.259016         0.0          0.0 -1.024345   1.426329   \n",
       "2019-09-01       -0.259024         0.0          0.0 -1.024345   1.400218   \n",
       "2019-10-01       -0.259026         0.0          0.0 -1.024345   1.374108   \n",
       "2019-11-01       -0.259023         0.0          0.0 -1.024345   1.347998   \n",
       "2019-12-01       -0.259025         0.0          0.0 -1.024345   1.321888   \n",
       "\n",
       "                 GDP  Population  TravelPolicy  Temperature  Precipitation  \\\n",
       "Date                                                                         \n",
       "2002-01-01 -1.681899   -1.598512           0.0    -0.877961      -0.362024   \n",
       "2002-02-01 -1.669684   -1.594969           0.0    -0.050308      -1.490460   \n",
       "2002-03-01 -1.657470   -1.591424           0.0     1.108406      -0.913265   \n",
       "2002-04-01 -1.645255   -1.587880           0.0     1.439467      -0.329842   \n",
       "2002-05-01 -1.633041   -1.584336           0.0     1.936058      -0.115989   \n",
       "...              ...         ...           ...          ...            ...   \n",
       "2019-08-01  1.490276    1.360326           0.0     0.942875      -1.415715   \n",
       "2019-09-01  1.476286    1.366896           0.0     0.611814      -1.567281   \n",
       "2019-10-01  1.462296    1.373464           0.0    -0.050308      -0.212535   \n",
       "2019-11-01  1.448305    1.380032           0.0    -0.215839      -0.373443   \n",
       "2019-12-01  1.434315    1.386601           0.0    -1.209022       1.519049   \n",
       "\n",
       "            ...  Month_11  Month_12 Month_2  Month_3  Month_4  Month_5  \\\n",
       "Date        ...                                                          \n",
       "2002-01-01  ...       0.0       0.0     0.0      0.0      0.0      0.0   \n",
       "2002-02-01  ...       0.0       0.0     1.0      0.0      0.0      0.0   \n",
       "2002-03-01  ...       0.0       0.0     0.0      1.0      0.0      0.0   \n",
       "2002-04-01  ...       0.0       0.0     0.0      0.0      1.0      0.0   \n",
       "2002-05-01  ...       0.0       0.0     0.0      0.0      0.0      1.0   \n",
       "...         ...       ...       ...     ...      ...      ...      ...   \n",
       "2019-08-01  ...       0.0       0.0     0.0      0.0      0.0      0.0   \n",
       "2019-09-01  ...       0.0       0.0     0.0      0.0      0.0      0.0   \n",
       "2019-10-01  ...       0.0       0.0     0.0      0.0      0.0      0.0   \n",
       "2019-11-01  ...       1.0       0.0     0.0      0.0      0.0      0.0   \n",
       "2019-12-01  ...       0.0       1.0     0.0      0.0      0.0      0.0   \n",
       "\n",
       "            Month_6  Month_7  Month_8  Month_9  \n",
       "Date                                            \n",
       "2002-01-01      0.0      0.0      0.0      0.0  \n",
       "2002-02-01      0.0      0.0      0.0      0.0  \n",
       "2002-03-01      0.0      0.0      0.0      0.0  \n",
       "2002-04-01      0.0      0.0      0.0      0.0  \n",
       "2002-05-01      0.0      0.0      0.0      0.0  \n",
       "...             ...      ...      ...      ...  \n",
       "2019-08-01      0.0      0.0      1.0      0.0  \n",
       "2019-09-01      0.0      0.0      0.0      1.0  \n",
       "2019-10-01      0.0      0.0      0.0      0.0  \n",
       "2019-11-01      0.0      0.0      0.0      0.0  \n",
       "2019-12-01      0.0      0.0      0.0      0.0  \n",
       "\n",
       "[216 rows x 41 columns]"
      ]
     },
     "execution_count": 9,
     "metadata": {},
     "output_type": "execute_result"
    }
   ],
   "source": [
    "all_data[country]"
   ]
  },
  {
   "cell_type": "code",
   "execution_count": 10,
   "id": "5a984fa5-c521-4423-ae98-9f845aa3eae0",
   "metadata": {},
   "outputs": [
    {
     "name": "stdout",
     "output_type": "stream",
     "text": [
      "<class 'pandas.core.frame.DataFrame'>\n",
      "DatetimeIndex: 216 entries, 2002-01-01 to 2019-12-01\n",
      "Freq: MS\n",
      "Data columns (total 41 columns):\n",
      " #   Column                    Non-Null Count  Dtype  \n",
      "---  ------                    --------------  -----  \n",
      " 0   FXAgainstChina            216 non-null    float64\n",
      " 1   CovidCases                216 non-null    float64\n",
      " 2   CovidDeaths               216 non-null    float64\n",
      " 3   FSI                       216 non-null    float64\n",
      " 4   GDPPerCap                 216 non-null    float64\n",
      " 5   GDP                       216 non-null    float64\n",
      " 6   Population                216 non-null    float64\n",
      " 7   TravelPolicy              216 non-null    float64\n",
      " 8   Temperature               216 non-null    float64\n",
      " 9   Precipitation             216 non-null    float64\n",
      " 10  GlobalCovidTrend          216 non-null    float64\n",
      " 11  DistFromChina             216 non-null    float64\n",
      " 12  Country                   216 non-null    object \n",
      " 13  GDPRatioChina             216 non-null    float64\n",
      " 14  GDPPerCapRatioChina       216 non-null    float64\n",
      " 15  GDPGrowthDiffChina        216 non-null    float64\n",
      " 16  GDPPerCapGrowthDiffChina  216 non-null    float64\n",
      " 17  ChinaConfinementPolicy    216 non-null    float64\n",
      " 18  ChinaMovementPolicy       216 non-null    float64\n",
      " 19  ChinaGDPPerCap            216 non-null    float64\n",
      " 20  ChinaGDP                  216 non-null    float64\n",
      " 21  VisitorArrivals           216 non-null    float64\n",
      " 22  Popularity                216 non-null    float64\n",
      " 23  Unrest                    216 non-null    float64\n",
      " 24  TravelRestriction         216 non-null    float64\n",
      " 25  Year                      216 non-null    float64\n",
      " 26  MonthSin                  216 non-null    float64\n",
      " 27  MonthCos                  216 non-null    float64\n",
      " 28  Month                     216 non-null    int64  \n",
      " 29  Month_1                   216 non-null    float64\n",
      " 30  Month_10                  216 non-null    float64\n",
      " 31  Month_11                  216 non-null    float64\n",
      " 32  Month_12                  216 non-null    float64\n",
      " 33  Month_2                   216 non-null    float64\n",
      " 34  Month_3                   216 non-null    float64\n",
      " 35  Month_4                   216 non-null    float64\n",
      " 36  Month_5                   216 non-null    float64\n",
      " 37  Month_6                   216 non-null    float64\n",
      " 38  Month_7                   216 non-null    float64\n",
      " 39  Month_8                   216 non-null    float64\n",
      " 40  Month_9                   216 non-null    float64\n",
      "dtypes: float64(39), int64(1), object(1)\n",
      "memory usage: 70.9+ KB\n"
     ]
    }
   ],
   "source": [
    "all_data[country].info()"
   ]
  },
  {
   "cell_type": "markdown",
   "id": "ec234c79-05a8-4a99-ba2a-3da29e091b4e",
   "metadata": {},
   "source": [
    "# No Temporal Features\n",
    "### RNN"
   ]
  },
  {
   "cell_type": "code",
   "execution_count": 15,
   "id": "ad3b61f2-e8e8-43c5-81b6-4b4fd3e3a531",
   "metadata": {},
   "outputs": [],
   "source": [
    "country_feat = [#'GDPPerCap', 'GDP', 'Population',\n",
    "                'Temperature', 'Precipitation',]\n",
    "universal_feat = ['FXAgainstChina', 'FSI', 'Country', \n",
    "                   'GDPRatioChina', 'Unrest', #'MonthSin', 'MonthCos', 'Year',\n",
    "                   'GDPPerCapRatioChina', 'GDPGrowthDiffChina', 'GDPPerCapGrowthDiffChina',\n",
    "                   'ChinaConfinementPolicy', 'ChinaMovementPolicy', 'ChinaGDPPerCap',\n",
    "                   'ChinaGDP', 'Popularity', 'TravelRestriction']\n",
    "# static_feat = ['DistFromChina']\n",
    "target = 'VisitorArrivals'\n",
    "def sliding_window(df, input_len=100, output_len=12, test_size=1,):\n",
    "    df = df.copy().dropna()\n",
    "    x, y, mase = [], [], []\n",
    "    if input_len <= 0:  # <=0 is full length\n",
    "        input_len = len(df) - test_size * output_len * 2\n",
    "\n",
    "    for i in range(len(df) - input_len - output_len + 1):\n",
    "        x.append(df[country_feat + universal_feat + [target]].iloc[i: i + input_len])\n",
    "        y.append(df[target].iloc[i + input_len: i + input_len + output_len].values)\n",
    "        m = []\n",
    "        for j in range(output_len):\n",
    "            m.append(compute_mase_scale(df[target].iloc[: i + input_len + j].values, h=0))\n",
    "        mase.append(m)\n",
    "    y = np.asarray(y)\n",
    "    mase = np.asarray(mase)\n",
    "    return x[:-test_size*output_len], y[:-test_size*output_len], mase[:-test_size*output_len], x[-test_size:], y[-test_size:], mase[-test_size:]"
   ]
  },
  {
   "cell_type": "code",
   "execution_count": 16,
   "id": "a96f2edc-c052-4a53-8894-9d104c8ac7a7",
   "metadata": {},
   "outputs": [],
   "source": [
    "# repeat for all countries\n",
    "all_train_x, all_train_y, all_test_x, all_test_y = [], [], [], []\n",
    "for country, df in all_data.items():\n",
    "    df = df.copy().dropna()\n",
    "    train_x, train_y = df[country_feat + universal_feat], df[target]\n",
    "    train_y, train_x, _ = dummy_lagged_df(train_y, train_x, lag=1)\n",
    "    train_x, test_x, train_y, test_y = train_x.iloc[:-1*12], train_x.iloc[-1*12:], train_y.iloc[:-1*12], train_y.iloc[-1*12:]\n",
    "    \n",
    "    all_train_x.append(train_x)\n",
    "    all_train_y.append(train_y)\n",
    "    all_test_x.append(test_x)\n",
    "    all_test_y.append(test_y)\n",
    "\n",
    "all_train_x = pd.concat(all_train_x, ignore_index=True)\n",
    "all_train_y = pd.concat(all_train_y, ignore_index=True)"
   ]
  },
  {
   "cell_type": "code",
   "execution_count": 17,
   "id": "562222bb-8469-4194-a4b7-25bffe08321c",
   "metadata": {},
   "outputs": [],
   "source": [
    "y_mase_scales = []\n",
    "for c in country_list:\n",
    "    f = c + '.csv'\n",
    "    df = pd.read_csv(os.path.join(imputed_dir, f))\n",
    "    df['Date'] = pd.to_datetime(df['Date'])\n",
    "    df = df[df['Date'] < '2020-01-01']\n",
    "    df = df.set_index('Date')\n",
    "    train_y = df[target]\n",
    "    train_y = train_y.loc[train_y.first_valid_index(): train_y.last_valid_index()]\n",
    "    for i in range(12, 0, -1):\n",
    "        y_mase_scales.append(compute_mase_scale(train_y.iloc[:-i].values))\n",
    "\n",
    "y_mase_scales = np.asarray(y_mase_scales)"
   ]
  },
  {
   "cell_type": "code",
   "execution_count": 18,
   "id": "e2dcee30-2a92-4e6a-964b-8a79164b4244",
   "metadata": {},
   "outputs": [],
   "source": [
    "output_size=12\n",
    "seq_train_x_ori, seq_train_y_ori, seq_test_x_ori, seq_test_y_ori = [], [], [], []\n",
    "for country in country_list:\n",
    "    seq_train_x, seq_train_y, _, seq_test_x, seq_test_y, _ = sliding_window(all_data[country], input_len=60, \n",
    "                                                                      output_len=12, test_size=1)\n",
    "    temp_country = [country] * len(seq_train_x)\n",
    "    seq_train_x_ori.extend(seq_train_x)\n",
    "    seq_train_y_ori.append(seq_train_y)\n",
    "    seq_test_x_ori.extend(seq_test_x)\n",
    "    seq_test_y_ori.append(seq_test_y)\n",
    "seq_train_y_ori = np.concatenate(seq_train_y_ori)\n",
    "seq_test_y_ori = np.concatenate(seq_test_y_ori)"
   ]
  },
  {
   "cell_type": "code",
   "execution_count": 29,
   "id": "166157c4-15c5-4d0c-b040-1ad750756ded",
   "metadata": {
    "scrolled": true,
    "tags": []
   },
   "outputs": [
    {
     "name": "stdout",
     "output_type": "stream",
     "text": [
      "Epoch 0: train loss 1.8848, val loss 1.4372, time 1.3655\n",
      "Epoch 1: train loss 0.9252, val loss 0.9071, time 1.1844\n",
      "Epoch 2: train loss 0.8177, val loss 0.8606, time 1.1863\n",
      "Epoch 3: train loss 0.7891, val loss 0.8453, time 1.1915\n",
      "Epoch 4: train loss 0.7810, val loss 0.8266, time 1.1792\n",
      "Epoch 5: train loss 0.7426, val loss 0.8247, time 1.1866\n",
      "Epoch 6: train loss 0.7376, val loss 0.8301, time 1.1837\n",
      "Epoch 7: train loss 0.7299, val loss 0.8056, time 1.1855\n",
      "Epoch 8: train loss 0.7180, val loss 0.8123, time 1.1987\n",
      "Epoch 9: train loss 0.7076, val loss 0.7953, time 1.1900\n",
      "Epoch 10: train loss 0.7119, val loss 1.0226, time 1.1910\n",
      "Epoch 11: train loss 0.7056, val loss 0.8368, time 1.1850\n",
      "Epoch 12: train loss 0.7028, val loss 0.9016, time 1.1907\n",
      "Epoch 13: train loss 0.7000, val loss 0.9268, time 1.1920\n",
      "Early stopping as no improvement in val loss\n"
     ]
    },
    {
     "data": {
      "image/png": "[encoded data removed]",
      "text/plain": [
       "<Figure size 640x480 with 1 Axes>"
      ]
     },
     "metadata": {},
     "output_type": "display_data"
    }
   ],
   "source": [
    "best_param = ({'seq_len': 24, 'batch_size': 128},\n",
    "              {'model_type': 'gru', 'num_layers': 3, 'hidden_size': 50},\n",
    "              {'optim_type': 'nadam', 'lr': 0.001})\n",
    "\n",
    "output_size=12\n",
    "seq_train_x_ori, seq_train_y_ori, train_mase_ori, seq_test_x_ori, seq_test_y_ori, test_mase_ori = [], [], [], [], [], []\n",
    "for country in country_list:\n",
    "    seq_train_x, seq_train_y, train_mase, seq_test_x, seq_test_y, test_mase = sliding_window(all_data[country], input_len=best_param[0]['seq_len'], \n",
    "                                                                                          output_len=output_size, test_size=1)\n",
    "    temp_country = [country] * len(seq_train_x)\n",
    "    seq_train_x_ori.extend(seq_train_x)\n",
    "    seq_train_y_ori.append(seq_train_y)\n",
    "    seq_test_x_ori.extend(seq_test_x)\n",
    "    seq_test_y_ori.append(seq_test_y)\n",
    "    train_mase_ori.append(train_mase)\n",
    "    test_mase_ori.append(test_mase)\n",
    "seq_train_y_ori = np.concatenate(seq_train_y_ori)\n",
    "seq_test_y_ori = np.concatenate(seq_test_y_ori)\n",
    "train_mase_ori = np.concatenate(train_mase_ori)\n",
    "test_mase_ori = np.concatenate(test_mase_ori)\n",
    "\n",
    "model = ForecastModel(**best_param[1], input_size=16, output_size=output_size, conditional_labels=country_list)\n",
    "optimizer = get_torch_optimizer(best_param[2]['optim_type'], model.parameters(), lr=best_param[2]['lr'])\n",
    "criterion = get_torch_criterion('mase')\n",
    "\n",
    "train_dataset = TimeSeriesDataset(seq_train_x_ori, seq_train_y_ori, mases=train_mase_ori)# (model.num_layers, model.hidden_size))\n",
    "test_dataset = TimeSeriesDataset(seq_test_x_ori, seq_test_y_ori, mases=test_mase_ori)# (model.num_layers, model.hidden_size))\n",
    "train_dataloader = DataLoader(train_dataset, shuffle=True, batch_size=best_param[0]['batch_size'], pin_memory=True)\n",
    "test_dataloader = DataLoader(test_dataset, shuffle=False, batch_size=1, pin_memory=True)\n",
    "\n",
    "model, train_losses, val_losses = train_rnn(model, criterion, optimizer, train_dataloader, test_dataloader, cuda=True, epochs=50, mase=True)\n",
    "plt.plot(train_losses, label='train')\n",
    "plt.plot(val_losses, label='val')\n",
    "plt.legend();"
   ]
  },
  {
   "cell_type": "code",
   "execution_count": 30,
   "id": "4ad6815b-17eb-4dd2-b47e-006cbe261005",
   "metadata": {
    "scrolled": true,
    "tags": []
   },
   "outputs": [],
   "source": [
    "rnn_preds, _ = eval_rnn(model, criterion, test_dataloader, mase=True)"
   ]
  },
  {
   "cell_type": "code",
   "execution_count": 31,
   "id": "b16edcf6-fcaf-4aad-9ad5-6c4a5f9715ff",
   "metadata": {},
   "outputs": [],
   "source": [
    "rnn_pred, rnn_gt = [], []\n",
    "\n",
    "for i in range(len(test_dataset)):\n",
    "    country, ds_x, ds_y, _ = test_dataset.__getitem__(i)\n",
    "# for i, country in enumerate(all_data.keys()):\n",
    "#     ds_y = rnn_gts[i]\n",
    "    rnn_pred.append(inverse_target(rnn_preds[i], all_decomposed_seasonal[country].seasonal.loc[all_test_y[i].index - pd.DateOffset(years=4)].values if deduct_seasonality else 0.,\n",
    "                                   y_scaler if single_y_scaler else y_scaler[country]))\n",
    "    rnn_gt.append(inverse_target(ds_y, all_decomposed_seasonal[country].seasonal.loc[all_test_y[i].index - pd.DateOffset(years=4)].values if deduct_seasonality else 0.,\n",
    "                                 y_scaler if single_y_scaler else y_scaler[country]))\n",
    "rnn_gt = np.concatenate(rnn_gt)\n",
    "rnn_pred = np.concatenate(rnn_pred)"
   ]
  },
  {
   "cell_type": "code",
   "execution_count": 32,
   "id": "53d993b5-7e5d-4523-8724-7e7b7403ca32",
   "metadata": {},
   "outputs": [],
   "source": [
    "all_y = rnn_gt"
   ]
  },
  {
   "cell_type": "code",
   "execution_count": 33,
   "id": "25369d20-0adb-4536-ba56-10577f81b3d2",
   "metadata": {},
   "outputs": [
    {
     "name": "stdout",
     "output_type": "stream",
     "text": [
      "RNN RMSE: 403946.50616\n",
      "RNN R2: 0.81158\n",
      "RNN MAE: 114888.26272\n",
      "RNN MAPE: 0.25794\n",
      "RNN MASE: 2.55218\n"
     ]
    }
   ],
   "source": [
    "rnn_rmse = sqrt(mean_squared_error(all_y, rnn_pred))\n",
    "rnn_r2 = r2_score(all_y, rnn_pred)\n",
    "rnn_mae = mean_absolute_error(all_y, rnn_pred)\n",
    "rnn_mape = mean_absolute_percentage_error(all_y, rnn_pred)\n",
    "rnn_mase = mean_absolute_scaled_error(all_y, rnn_pred, y_mase_scales)\n",
    "print(f'RNN RMSE: {rnn_rmse:.5f}\\nRNN R2: {rnn_r2:.5f}'\n",
    "      f'\\nRNN MAE: {rnn_mae:.5f}\\nRNN MAPE: {rnn_mape:.5f}\\nRNN MASE: {rnn_mase:.5f}')"
   ]
  },
  {
   "cell_type": "markdown",
   "id": "ce33ff05-e35e-43a1-b705-d75950030e35",
   "metadata": {},
   "source": [
    "## One Step RNN"
   ]
  },
  {
   "cell_type": "code",
   "execution_count": 55,
   "id": "13c86f58-ed02-4b71-ba97-b353179ef5d3",
   "metadata": {},
   "outputs": [],
   "source": [
    "country_feat = [#'GDPPerCap', 'GDP', 'Population',\n",
    "                'Temperature', 'Precipitation',]\n",
    "universal_feat = ['FXAgainstChina', 'FSI', 'Country', \n",
    "                   'GDPRatioChina', 'Unrest', #'MonthSin', 'MonthCos', 'Year',\n",
    "                   'GDPPerCapRatioChina', 'GDPGrowthDiffChina', 'GDPPerCapGrowthDiffChina',\n",
    "                   'ChinaConfinementPolicy', 'ChinaMovementPolicy', 'ChinaGDPPerCap',\n",
    "                   'ChinaGDP', 'Popularity', 'TravelRestriction']\n",
    "# static_feat = ['DistFromChina']\n",
    "target = 'VisitorArrivals'"
   ]
  },
  {
   "cell_type": "code",
   "execution_count": 56,
   "id": "77c08958-5cf7-4380-b34f-79619e429d2c",
   "metadata": {
    "scrolled": true,
    "tags": []
   },
   "outputs": [
    {
     "name": "stdout",
     "output_type": "stream",
     "text": [
      "Epoch 0: train loss 1.2826, val loss 0.6719, time 1.5824\n",
      "Epoch 1: train loss 0.7934, val loss 0.7316, time 1.3990\n",
      "Epoch 2: train loss 0.6037, val loss 0.7825, time 1.4005\n",
      "Epoch 3: train loss 0.5767, val loss 0.5056, time 1.3949\n",
      "Epoch 4: train loss 0.5434, val loss 0.5176, time 1.3986\n",
      "Epoch 5: train loss 0.5432, val loss 0.6394, time 1.3971\n",
      "Epoch 6: train loss 0.5356, val loss 0.4782, time 1.4248\n",
      "Epoch 7: train loss 0.5438, val loss 0.5988, time 1.3894\n",
      "Epoch 8: train loss 0.5494, val loss 0.5115, time 1.3942\n",
      "Epoch 9: train loss 0.5392, val loss 0.6538, time 1.4039\n",
      "Epoch 10: train loss 0.5214, val loss 0.5783, time 1.3941\n",
      "Epoch 11: train loss 0.5204, val loss 0.6082, time 1.3894\n",
      "Epoch 12: train loss 0.5253, val loss 0.4807, time 1.3900\n",
      "Epoch 13: train loss 0.5039, val loss 0.5249, time 1.3980\n",
      "Early stopping as no improvement in val loss\n"
     ]
    },
    {
     "data": {
      "image/png": "[encoded data removed]",
      "text/plain": [
       "<Figure size 640x480 with 1 Axes>"
      ]
     },
     "metadata": {},
     "output_type": "display_data"
    }
   ],
   "source": [
    "best_param = ({'seq_len': 24, 'batch_size': 256},\n",
    "              {'model_type': 'gru', 'num_layers': 1, 'hidden_size': 100},\n",
    "              {'optim_type': 'rmsprop', 'lr': 0.001})\n",
    "output_size=1\n",
    "seq_train_x_ori, seq_train_y_ori, train_mase_ori, seq_test_x_ori, seq_test_y_ori, test_mase_ori = [], [], [], [], [], []\n",
    "for country in country_list:\n",
    "    seq_train_x, seq_train_y, train_mase, seq_test_x, seq_test_y, test_mase = sliding_window(all_data[country], input_len=best_param[0]['seq_len'], \n",
    "                                                                      output_len=output_size, test_size=12)\n",
    "    temp_country = [country] * len(seq_train_x)\n",
    "    seq_train_x_ori.extend(seq_train_x)\n",
    "    seq_train_y_ori.append(seq_train_y)\n",
    "    seq_test_x_ori.extend(seq_test_x)\n",
    "    seq_test_y_ori.append(seq_test_y)\n",
    "    train_mase_ori.append(train_mase)\n",
    "    test_mase_ori.append(test_mase)\n",
    "seq_train_y_ori = np.concatenate(seq_train_y_ori).squeeze()\n",
    "seq_test_y_ori = np.concatenate(seq_test_y_ori).squeeze()\n",
    "train_mase_ori = np.concatenate(train_mase_ori).squeeze()\n",
    "test_mase_ori = np.concatenate(test_mase_ori).squeeze()\n",
    "\n",
    "model = ForecastModel(**best_param[1], input_size=16, output_size=output_size, conditional_labels=country_list)\n",
    "optimizer = get_torch_optimizer(best_param[2]['optim_type'], model.parameters(), lr=best_param[2]['lr'])\n",
    "criterion = get_torch_criterion('mase')\n",
    "\n",
    "train_dataset = TimeSeriesDataset(seq_train_x_ori, seq_train_y_ori, mases=train_mase_ori)# (model.num_layers, model.hidden_size))\n",
    "test_dataset = TimeSeriesDataset(seq_test_x_ori, seq_test_y_ori, mases=test_mase_ori)# (model.num_layers, model.hidden_size))\n",
    "train_dataloader = DataLoader(train_dataset, shuffle=True, batch_size=best_param[0]['batch_size'], pin_memory=True)\n",
    "test_dataloader = DataLoader(test_dataset, shuffle=False, batch_size=1, pin_memory=True)\n",
    "\n",
    "model, train_losses, val_losses = train_rnn(model, criterion, optimizer, train_dataloader, test_dataloader, cuda=True, epochs=50, mase=True)\n",
    "plt.plot(train_losses, label='train')\n",
    "plt.plot(val_losses, label='val')\n",
    "plt.legend();"
   ]
  },
  {
   "cell_type": "code",
   "execution_count": 57,
   "id": "ff490b3a-e9d8-4144-9aad-ac865ecfddeb",
   "metadata": {
    "scrolled": true,
    "tags": []
   },
   "outputs": [],
   "source": [
    "# rnn_preds, _ = eval_rnn(model, criterion, test_dataloader)\n",
    "\n",
    "# auto regressive predictions\n",
    "model.eval()\n",
    "rnn_preds, rnn_gts = [], []\n",
    "for country in all_data.keys():\n",
    "    test_x_, test_y_ = zip(*[(x.copy(), y.copy()) for x, y in zip(seq_test_x_ori, seq_test_y_ori) if x['Country'].unique()[0] == country])\n",
    "    preds = []\n",
    "    for i in range(len(test_x_)):\n",
    "        if i > 0:\n",
    "            last_pred = np.concatenate(preds)[-len(test_x_[i]):]\n",
    "            test_x_[i].iloc[-len(last_pred):, test_x_[i].columns.get_loc('VisitorArrivals')] = last_pred\n",
    "        with torch.no_grad():\n",
    "            init_state = model.get_embeddings([country])\n",
    "            x_input = torch.from_numpy(test_x_[i].drop(columns='Country').to_numpy()).float().unsqueeze(0)\n",
    "            init_state, x_input = init_state.cuda(), x_input.cuda()\n",
    "            pred = model(x_input, init_state).detach().cpu().numpy()\n",
    "        preds.append(pred)\n",
    "        \n",
    "    preds = np.concatenate(preds)\n",
    "    gts = np.asarray(test_y_)\n",
    "    rnn_preds.append(preds)\n",
    "    rnn_gts.append(gts)\n",
    "\n",
    "rnn_preds = np.asarray(rnn_preds)\n",
    "rnn_gts = np.asarray(rnn_gts)"
   ]
  },
  {
   "cell_type": "code",
   "execution_count": 58,
   "id": "1b042bcb-02ac-4e2b-87c0-8eebd96ce9e4",
   "metadata": {},
   "outputs": [],
   "source": [
    "rnn_os_pred, rnn_gt = [], []\n",
    "\n",
    "# for i in range(len(test_dataset)):\n",
    "#     country, ds_x, ds_y = test_dataset.__getitem__(i)\n",
    "for i, country in enumerate(all_data.keys()):\n",
    "    ds_y = rnn_gts[i]\n",
    "    rnn_os_pred.append(inverse_target(rnn_preds[i], all_decomposed_seasonal[country].seasonal.loc[all_test_y[i].index - pd.DateOffset(years=4)].values if deduct_seasonality else 0.,\n",
    "                                   y_scaler if single_y_scaler else y_scaler[country]))\n",
    "    rnn_gt.append(inverse_target(ds_y, all_decomposed_seasonal[country].seasonal.loc[all_test_y[i].index - pd.DateOffset(years=4)].values if deduct_seasonality else 0.,\n",
    "                                 y_scaler if single_y_scaler else y_scaler[country]))\n",
    "    \n",
    "rnn_gt = np.concatenate(rnn_gt)\n",
    "rnn_os_pred = np.concatenate(rnn_os_pred)"
   ]
  },
  {
   "cell_type": "code",
   "execution_count": 59,
   "id": "92ec4c24-3075-4fc1-bb73-51232c278153",
   "metadata": {},
   "outputs": [
    {
     "data": {
      "text/plain": [
       "True"
      ]
     },
     "execution_count": 59,
     "metadata": {},
     "output_type": "execute_result"
    }
   ],
   "source": [
    "(rnn_gt == all_y).all()"
   ]
  },
  {
   "cell_type": "code",
   "execution_count": 60,
   "id": "8d0cc8af-b1fb-4cab-a592-28e596b9869d",
   "metadata": {},
   "outputs": [
    {
     "name": "stdout",
     "output_type": "stream",
     "text": [
      "RNN RMSE: 313510.20339\n",
      "RNN R2: 0.88650\n",
      "RNN MAE: 85903.52071\n",
      "RNN MAPE: 0.21186\n",
      "RNN MASE: 2.17813\n"
     ]
    }
   ],
   "source": [
    "rnn_rmse = sqrt(mean_squared_error(all_y, rnn_os_pred))\n",
    "rnn_r2 = r2_score(all_y, rnn_os_pred)\n",
    "rnn_mae = mean_absolute_error(all_y, rnn_os_pred)\n",
    "rnn_mape = mean_absolute_percentage_error(all_y, rnn_os_pred)\n",
    "rnn_mase = mean_absolute_scaled_error(all_y, rnn_os_pred, y_mase_scales)\n",
    "print(f'RNN RMSE: {rnn_rmse:.5f}\\nRNN R2: {rnn_r2:.5f}\\nRNN MAE: {rnn_mae:.5f}'\n",
    "      f'\\nRNN MAPE: {rnn_mape:.5f}\\nRNN MASE: {rnn_mase:.5f}')"
   ]
  },
  {
   "cell_type": "markdown",
   "id": "9779cd90-13ed-423d-866a-24e9680a9038",
   "metadata": {},
   "source": [
    "### Separate RNN models"
   ]
  },
  {
   "cell_type": "code",
   "execution_count": 63,
   "id": "9e6a3e76-0b28-48cd-ab4b-2edde2ead769",
   "metadata": {},
   "outputs": [],
   "source": [
    "country_feat = [#'GDPPerCap', 'GDP', 'Population',\n",
    "                'Temperature', 'Precipitation',]\n",
    "universal_feat = ['FXAgainstChina', 'FSI', 'Country', \n",
    "                   'GDPRatioChina', 'Unrest',# 'MonthSin', 'MonthCos', 'Year',\n",
    "                   'GDPPerCapRatioChina', 'GDPGrowthDiffChina', 'GDPPerCapGrowthDiffChina',\n",
    "                   'ChinaConfinementPolicy', 'ChinaMovementPolicy', 'ChinaGDPPerCap',\n",
    "                   'ChinaGDP', 'TravelRestriction']\n",
    "# static_feat = ['DistFromChina', 'Popularity']"
   ]
  },
  {
   "cell_type": "code",
   "execution_count": null,
   "id": "4777ea68-9667-44c3-b83d-b045fc08c967",
   "metadata": {
    "scrolled": true,
    "tags": []
   },
   "outputs": [],
   "source": [
    "best_param = ({'seq_len': 24, 'batch_size': 64}, \n",
    "              {'model_type': 'gru', 'num_layers': 1, 'hidden_size': 20}, \n",
    "              {'optim_type': 'nadam', 'lr': 0.001})\n",
    "\n",
    "rnn_sep_pred, rnn_sep_gt = [], []\n",
    "for i, country in enumerate(country_list):\n",
    "    print(country)\n",
    "    seq_train_x, seq_train_y, train_mase, seq_test_x, seq_test_y, test_mase = sliding_window(all_data[country], input_len=best_param[0]['seq_len'], \n",
    "                                                                      output_len=12, test_size=1)\n",
    "\n",
    "    model = ForecastModel(**best_param[1], input_size=15, output_size=12, conditional_labels=country_list)\n",
    "    optimizer = get_torch_optimizer(best_param[2]['optim_type'], model.parameters(), lr=best_param[2]['lr'])\n",
    "    criterion = get_torch_criterion('mase')\n",
    "\n",
    "    train_dataset = TimeSeriesDataset(seq_train_x, seq_train_y, mases=train_mase)# (model.num_layers, model.hidden_size))\n",
    "    test_dataset = TimeSeriesDataset(seq_test_x, seq_test_y, mases=test_mase)# (model.num_layers, model.hidden_size))\n",
    "    train_dataloader = DataLoader(train_dataset, shuffle=True, batch_size=best_param[0]['batch_size'], pin_memory=True)\n",
    "    test_dataloader = DataLoader(test_dataset, shuffle=False, batch_size=1, pin_memory=True)\n",
    "\n",
    "    model, train_losses, val_losses = train_rnn(model, criterion, optimizer, train_dataloader, test_dataloader, early_stop_patience=10, cuda=True, epochs=100, mase=True)\n",
    "    plt.plot(train_losses, label='train')\n",
    "    plt.plot(val_losses, label='val')\n",
    "    plt.title(country)\n",
    "    plt.legend()\n",
    "    plt.show()\n",
    "    \n",
    "    rnn_preds, _ = eval_rnn(model, criterion, test_dataloader, mase=True)\n",
    "\n",
    "    _, ds_x, ds_y, _ = test_dataset.__getitem__(0)\n",
    "    rnn_sep_pred.append(inverse_target(rnn_preds[0], all_decomposed_seasonal[country].seasonal.loc[all_test_y[i].index - pd.DateOffset(years=4)].values if deduct_seasonality else 0.,\n",
    "                                   y_scaler if single_y_scaler else y_scaler[country]))\n",
    "    rnn_sep_gt.append(inverse_target(ds_y, all_decomposed_seasonal[country].seasonal.loc[all_test_y[i].index - pd.DateOffset(years=4)].values if deduct_seasonality else 0.,\n",
    "                                 y_scaler if single_y_scaler else y_scaler[country]))\n",
    "\n",
    "rnn_sep_gt = np.concatenate(rnn_sep_gt)\n",
    "rnn_sep_pred = np.concatenate(rnn_sep_pred)"
   ]
  },
  {
   "cell_type": "code",
   "execution_count": 65,
   "id": "ec516b34-08bb-43f4-9a33-4dfe6e612938",
   "metadata": {},
   "outputs": [
    {
     "name": "stdout",
     "output_type": "stream",
     "text": [
      "RNN Sep RMSE: 301901.57767\n",
      "RNN Sep R2: 0.89475\n",
      "RNN Sep MAE: 98764.29282\n",
      "RNN Sep MAPE: 0.18198\n",
      "RNN Sep MASE: 2.06255\n"
     ]
    }
   ],
   "source": [
    "rnn_sep_rmse = sqrt(mean_squared_error(all_y, rnn_sep_pred))\n",
    "rnn_sep_r2 = r2_score(all_y, rnn_sep_pred)\n",
    "rnn_sep_mae = mean_absolute_error(all_y, rnn_sep_pred)\n",
    "rnn_sep_mape = mean_absolute_percentage_error(all_y, rnn_sep_pred)\n",
    "rnn_sep_mase = mean_absolute_scaled_error(all_y, rnn_sep_pred, y_mase_scales)\n",
    "print(f'RNN Sep RMSE: {rnn_sep_rmse:.5f}\\nRNN Sep R2: {rnn_sep_r2:.5f}\\nRNN Sep MAE: {rnn_sep_mae:.5f}'\n",
    "      f'\\nRNN Sep MAPE: {rnn_sep_mape:.5f}\\nRNN Sep MASE: {rnn_sep_mase:.5f}')"
   ]
  },
  {
   "cell_type": "markdown",
   "id": "4aa7dc50-2b31-4614-a82a-639bab89caae",
   "metadata": {},
   "source": [
    "### Ensemble RNN models"
   ]
  },
  {
   "cell_type": "code",
   "execution_count": 66,
   "id": "360a4d98-7761-4921-a8dc-c95fb9739c88",
   "metadata": {},
   "outputs": [
    {
     "name": "stdout",
     "output_type": "stream",
     "text": [
      "Weight: 0.0, RMSE: 313510.20339\n",
      "Weight: 0.1, RMSE: 307005.96506\n",
      "Weight: 0.2, RMSE: 301587.14439\n",
      "Weight: 0.3, RMSE: 297313.09567\n",
      "Weight: 0.4, RMSE: 294233.71012\n",
      "Weight: 0.5, RMSE: 292386.73638\n",
      "Weight: 0.6, RMSE: 291795.57770\n",
      "Weight: 0.7, RMSE: 292467.84925\n",
      "Weight: 0.8, RMSE: 294394.89575\n",
      "Weight: 0.9, RMSE: 297552.33920\n"
     ]
    }
   ],
   "source": [
    "for w in range(10):\n",
    "    w = w / 10\n",
    "    ensemble_pred = w * rnn_sep_pred + (1 - w) * rnn_os_pred\n",
    "    ens_rmse = sqrt(mean_squared_error(all_y, ensemble_pred))\n",
    "    print(f'Weight: {w}, RMSE: {ens_rmse:.5f}')\n",
    "w = 0.5\n",
    "ensemble_pred = w * rnn_sep_pred + (1 - w) * rnn_os_pred"
   ]
  },
  {
   "cell_type": "code",
   "execution_count": 67,
   "id": "cf9cc6b0-7200-4021-b86f-de08547b81e2",
   "metadata": {},
   "outputs": [
    {
     "name": "stdout",
     "output_type": "stream",
     "text": [
      "RNN Ensemble RMSE: 292386.73638\n",
      "RNN Ensemble R2: 0.90128\n",
      "RNN Ensemble MAE: 84835.45187\n",
      "RNN Ensemble MAPE: 0.18473\n",
      "RNN Ensemble MASE: 1.97643\n"
     ]
    }
   ],
   "source": [
    "rnn_ens_rmse = sqrt(mean_squared_error(all_y, ensemble_pred))\n",
    "rnn_ens_r2 = r2_score(all_y, ensemble_pred)\n",
    "rnn_ens_mae = mean_absolute_error(all_y, ensemble_pred)\n",
    "rnn_ens_mape = mean_absolute_percentage_error(all_y, ensemble_pred)\n",
    "rnn_ens_mase = mean_absolute_scaled_error(all_y, ensemble_pred, y_mase_scales)\n",
    "\n",
    "print(f'RNN Ensemble RMSE: {rnn_ens_rmse:.5f}\\nRNN Ensemble R2: {rnn_ens_r2:.5f}\\nRNN Ensemble MAE: {rnn_ens_mae:.5f}'\n",
    "      f'\\nRNN Ensemble MAPE: {rnn_ens_mape:.5f}\\nRNN Ensemble MASE: {rnn_ens_mase:.5f}')"
   ]
  },
  {
   "cell_type": "code",
   "execution_count": null,
   "id": "00622f28-b8af-4b24-a18c-a4541d7d2642",
   "metadata": {},
   "outputs": [],
   "source": []
  },
  {
   "cell_type": "markdown",
   "id": "c3295f56-267b-4cd3-8bad-149484167b24",
   "metadata": {},
   "source": [
    "# Ordinal Temporal Features\n",
    "### RNN"
   ]
  },
  {
   "cell_type": "code",
   "execution_count": 46,
   "id": "6de23a75-0452-4dc3-9efb-e2980c0c5d07",
   "metadata": {},
   "outputs": [],
   "source": [
    "country_feat = [#'GDPPerCap', 'GDP', 'Population',\n",
    "                'Temperature', 'Precipitation',]\n",
    "universal_feat = ['FXAgainstChina', 'FSI', 'Country', \n",
    "                   'GDPRatioChina', 'Unrest', 'Month', 'Year',\n",
    "                   'GDPPerCapRatioChina', 'GDPGrowthDiffChina', 'GDPPerCapGrowthDiffChina',\n",
    "                   'ChinaConfinementPolicy', 'ChinaMovementPolicy', 'ChinaGDPPerCap',\n",
    "                   'ChinaGDP', 'Popularity', 'TravelRestriction']\n",
    "# static_feat = ['DistFromChina']\n",
    "target = 'VisitorArrivals'\n",
    "def sliding_window(df, input_len=100, output_len=12, test_size=1,):\n",
    "    df = df.copy().dropna()\n",
    "    x, y, mase = [], [], []\n",
    "    if input_len <= 0:  # <=0 is full length\n",
    "        input_len = len(df) - test_size * output_len * 2\n",
    "\n",
    "    for i in range(len(df) - input_len - output_len + 1):\n",
    "        x.append(df[country_feat + universal_feat + [target]].iloc[i: i + input_len])\n",
    "        y.append(df[target].iloc[i + input_len: i + input_len + output_len].values)\n",
    "        m = []\n",
    "        for j in range(output_len):\n",
    "            m.append(compute_mase_scale(df[target].iloc[: i + input_len + j].values, h=0))\n",
    "        mase.append(m)\n",
    "    y = np.asarray(y)\n",
    "    mase = np.asarray(mase)\n",
    "    return x[:-test_size*output_len], y[:-test_size*output_len], mase[:-test_size*output_len], x[-test_size:], y[-test_size:], mase[-test_size:]"
   ]
  },
  {
   "cell_type": "code",
   "execution_count": 47,
   "id": "50eecfa2-93f1-4a94-b0c2-ae417ecba580",
   "metadata": {},
   "outputs": [],
   "source": [
    "output_size=12\n",
    "seq_train_x_ori, seq_train_y_ori, seq_test_x_ori, seq_test_y_ori = [], [], [], []\n",
    "for country in country_list:\n",
    "    seq_train_x, seq_train_y, _, seq_test_x, seq_test_y, _ = sliding_window(all_data[country], input_len=60, \n",
    "                                                                      output_len=12, test_size=1)\n",
    "    temp_country = [country] * len(seq_train_x)\n",
    "    seq_train_x_ori.extend(seq_train_x)\n",
    "    seq_train_y_ori.append(seq_train_y)\n",
    "    seq_test_x_ori.extend(seq_test_x)\n",
    "    seq_test_y_ori.append(seq_test_y)\n",
    "seq_train_y_ori = np.concatenate(seq_train_y_ori)\n",
    "seq_test_y_ori = np.concatenate(seq_test_y_ori)"
   ]
  },
  {
   "cell_type": "code",
   "execution_count": 48,
   "id": "55b36686-515e-4a47-90fb-c917d5797cbd",
   "metadata": {
    "scrolled": true,
    "tags": []
   },
   "outputs": [
    {
     "name": "stdout",
     "output_type": "stream",
     "text": [
      "Epoch 0: train loss 1.8987, val loss 1.3605, time 1.6327\n",
      "Epoch 1: train loss 1.0186, val loss 0.9823, time 1.4341\n",
      "Epoch 2: train loss 0.8531, val loss 0.9267, time 1.4402\n",
      "Epoch 3: train loss 0.8142, val loss 0.8877, time 1.4451\n",
      "Epoch 4: train loss 0.7896, val loss 0.8822, time 1.4552\n",
      "Epoch 5: train loss 0.7620, val loss 0.8707, time 1.4628\n",
      "Epoch 6: train loss 0.7571, val loss 0.8609, time 1.4479\n",
      "Epoch 7: train loss 0.7478, val loss 0.9202, time 1.3989\n",
      "Epoch 8: train loss 0.7428, val loss 0.8429, time 1.4089\n",
      "Epoch 9: train loss 0.7218, val loss 0.8359, time 1.3989\n",
      "Epoch 10: train loss 0.7195, val loss 0.8425, time 1.4012\n",
      "Epoch 11: train loss 0.7202, val loss 0.8289, time 1.4000\n",
      "Epoch 12: train loss 0.7217, val loss 0.8158, time 1.4058\n",
      "Epoch 13: train loss 0.7022, val loss 0.8042, time 1.4013\n",
      "Epoch 14: train loss 0.7017, val loss 1.0863, time 1.4013\n",
      "Epoch 15: train loss 0.7059, val loss 0.8137, time 1.4263\n",
      "Epoch 16: train loss 0.7023, val loss 0.8030, time 1.4241\n",
      "Epoch 17: train loss 0.6994, val loss 0.8035, time 1.4260\n",
      "Epoch 18: train loss 0.6890, val loss 0.7931, time 1.4179\n",
      "Epoch 19: train loss 0.6904, val loss 0.8193, time 1.4005\n",
      "Epoch 20: train loss 0.6830, val loss 0.8309, time 1.4807\n",
      "Epoch 21: train loss 0.6819, val loss 0.8693, time 1.4061\n",
      "Early stopping as no improvement in val loss\n"
     ]
    },
    {
     "data": {
      "image/png": "[encoded data removed]",
      "text/plain": [
       "<Figure size 640x480 with 1 Axes>"
      ]
     },
     "metadata": {},
     "output_type": "display_data"
    }
   ],
   "source": [
    "best_param = ({'seq_len': 24, 'batch_size': 128},\n",
    "              {'model_type': 'gru', 'num_layers': 3, 'hidden_size': 50},\n",
    "              {'optim_type': 'nadam', 'lr': 0.001})\n",
    "\n",
    "output_size=12\n",
    "seq_train_x_ori, seq_train_y_ori, train_mase_ori, seq_test_x_ori, seq_test_y_ori, test_mase_ori = [], [], [], [], [], []\n",
    "for country in country_list:\n",
    "    seq_train_x, seq_train_y, train_mase, seq_test_x, seq_test_y, test_mase = sliding_window(all_data[country], input_len=best_param[0]['seq_len'], \n",
    "                                                                                          output_len=output_size, test_size=1)\n",
    "    temp_country = [country] * len(seq_train_x)\n",
    "    seq_train_x_ori.extend(seq_train_x)\n",
    "    seq_train_y_ori.append(seq_train_y)\n",
    "    seq_test_x_ori.extend(seq_test_x)\n",
    "    seq_test_y_ori.append(seq_test_y)\n",
    "    train_mase_ori.append(train_mase)\n",
    "    test_mase_ori.append(test_mase)\n",
    "seq_train_y_ori = np.concatenate(seq_train_y_ori)\n",
    "seq_test_y_ori = np.concatenate(seq_test_y_ori)\n",
    "train_mase_ori = np.concatenate(train_mase_ori)\n",
    "test_mase_ori = np.concatenate(test_mase_ori)\n",
    "\n",
    "model = ForecastModel(**best_param[1], input_size=18, output_size=output_size, conditional_labels=country_list)\n",
    "optimizer = get_torch_optimizer(best_param[2]['optim_type'], model.parameters(), lr=best_param[2]['lr'])\n",
    "criterion = get_torch_criterion('mase')\n",
    "\n",
    "train_dataset = TimeSeriesDataset(seq_train_x_ori, seq_train_y_ori, mases=train_mase_ori)# (model.num_layers, model.hidden_size))\n",
    "test_dataset = TimeSeriesDataset(seq_test_x_ori, seq_test_y_ori, mases=test_mase_ori)# (model.num_layers, model.hidden_size))\n",
    "train_dataloader = DataLoader(train_dataset, shuffle=True, batch_size=best_param[0]['batch_size'], pin_memory=True)\n",
    "test_dataloader = DataLoader(test_dataset, shuffle=False, batch_size=1, pin_memory=True)\n",
    "\n",
    "model, train_losses, val_losses = train_rnn(model, criterion, optimizer, train_dataloader, test_dataloader, cuda=True, epochs=50, mase=True)\n",
    "plt.plot(train_losses, label='train')\n",
    "plt.plot(val_losses, label='val')\n",
    "plt.legend();"
   ]
  },
  {
   "cell_type": "code",
   "execution_count": 49,
   "id": "9fe78551-7cd2-42d8-85e6-446604e65b17",
   "metadata": {
    "scrolled": true,
    "tags": []
   },
   "outputs": [],
   "source": [
    "rnn_preds, _ = eval_rnn(model, criterion, test_dataloader, mase=True)"
   ]
  },
  {
   "cell_type": "code",
   "execution_count": 50,
   "id": "8e07eab7-aa7d-460c-a47e-3e1347432d2d",
   "metadata": {},
   "outputs": [],
   "source": [
    "rnn_pred, rnn_gt = [], []\n",
    "\n",
    "for i in range(len(test_dataset)):\n",
    "    country, ds_x, ds_y, _ = test_dataset.__getitem__(i)\n",
    "# for i, country in enumerate(all_data.keys()):\n",
    "#     ds_y = rnn_gts[i]\n",
    "    rnn_pred.append(inverse_target(rnn_preds[i], all_decomposed_seasonal[country].seasonal.loc[all_test_y[i].index - pd.DateOffset(years=4)].values if deduct_seasonality else 0.,\n",
    "                                   y_scaler if single_y_scaler else y_scaler[country]))\n",
    "    rnn_gt.append(inverse_target(ds_y, all_decomposed_seasonal[country].seasonal.loc[all_test_y[i].index - pd.DateOffset(years=4)].values if deduct_seasonality else 0.,\n",
    "                                 y_scaler if single_y_scaler else y_scaler[country]))\n",
    "rnn_gt = np.concatenate(rnn_gt)\n",
    "rnn_pred = np.concatenate(rnn_pred)"
   ]
  },
  {
   "cell_type": "code",
   "execution_count": 51,
   "id": "a1a0b5dd-db7f-4fb0-8430-38847292b357",
   "metadata": {},
   "outputs": [
    {
     "data": {
      "text/plain": [
       "True"
      ]
     },
     "execution_count": 51,
     "metadata": {},
     "output_type": "execute_result"
    }
   ],
   "source": [
    "(all_y == rnn_gt).all()"
   ]
  },
  {
   "cell_type": "code",
   "execution_count": 52,
   "id": "92c0294a-ee15-4cb6-a41b-04614b3cc68d",
   "metadata": {},
   "outputs": [
    {
     "name": "stdout",
     "output_type": "stream",
     "text": [
      "RNN RMSE: 427867.85023\n",
      "RNN R2: 0.78860\n",
      "RNN MAE: 115182.09997\n",
      "RNN MAPE: 0.25727\n",
      "RNN MASE: 2.53401\n"
     ]
    }
   ],
   "source": [
    "rnn_rmse = sqrt(mean_squared_error(all_y, rnn_pred))\n",
    "rnn_r2 = r2_score(all_y, rnn_pred)\n",
    "rnn_mae = mean_absolute_error(all_y, rnn_pred)\n",
    "rnn_mape = mean_absolute_percentage_error(all_y, rnn_pred)\n",
    "rnn_mase = mean_absolute_scaled_error(all_y, rnn_pred, y_mase_scales)\n",
    "print(f'RNN RMSE: {rnn_rmse:.5f}\\nRNN R2: {rnn_r2:.5f}'\n",
    "      f'\\nRNN MAE: {rnn_mae:.5f}\\nRNN MAPE: {rnn_mape:.5f}\\nRNN MASE: {rnn_mase:.5f}')"
   ]
  },
  {
   "cell_type": "markdown",
   "id": "fced89ce-1fff-42b0-a9b2-772275504757",
   "metadata": {},
   "source": [
    "## One Step RNN"
   ]
  },
  {
   "cell_type": "code",
   "execution_count": 65,
   "id": "90c68259-ea6c-4f3c-b002-b307729fb0d6",
   "metadata": {},
   "outputs": [],
   "source": [
    "country_feat = [#'GDPPerCap', 'GDP', 'Population',\n",
    "                'Temperature', 'Precipitation',]\n",
    "universal_feat = ['FXAgainstChina', 'FSI', 'Country', \n",
    "                   'GDPRatioChina', 'Unrest','Month', 'Year',\n",
    "                   'GDPPerCapRatioChina', 'GDPGrowthDiffChina', 'GDPPerCapGrowthDiffChina',\n",
    "                   'ChinaConfinementPolicy', 'ChinaMovementPolicy', 'ChinaGDPPerCap',\n",
    "                   'ChinaGDP', 'Popularity', 'TravelRestriction']\n",
    "# static_feat = ['DistFromChina']\n",
    "target = 'VisitorArrivals'"
   ]
  },
  {
   "cell_type": "code",
   "execution_count": 66,
   "id": "09c6b606-43f1-4a35-ba80-8d4ccda9144b",
   "metadata": {
    "scrolled": true,
    "tags": []
   },
   "outputs": [
    {
     "name": "stdout",
     "output_type": "stream",
     "text": [
      "Epoch 0: train loss 1.3829, val loss 0.8542, time 1.8861\n",
      "Epoch 1: train loss 0.8625, val loss 0.8618, time 1.6511\n",
      "Epoch 2: train loss 0.7266, val loss 0.6652, time 1.6506\n",
      "Epoch 3: train loss 0.5770, val loss 0.5224, time 1.6343\n",
      "Epoch 4: train loss 0.5450, val loss 0.5279, time 1.6324\n",
      "Epoch 5: train loss 0.5377, val loss 0.5193, time 1.6293\n",
      "Epoch 6: train loss 0.5220, val loss 0.4980, time 1.6253\n",
      "Epoch 7: train loss 0.5164, val loss 0.4848, time 1.6346\n",
      "Epoch 8: train loss 0.5069, val loss 0.5379, time 1.6293\n",
      "Epoch 9: train loss 0.5355, val loss 0.5389, time 1.6364\n",
      "Epoch 10: train loss 0.5214, val loss 0.4808, time 1.6320\n",
      "Epoch 11: train loss 0.5113, val loss 0.4866, time 1.6270\n",
      "Epoch 12: train loss 0.5212, val loss 0.7970, time 1.6256\n",
      "Epoch 13: train loss 0.5411, val loss 0.5030, time 1.6918\n",
      "Early stopping as no improvement in val loss\n"
     ]
    },
    {
     "data": {
      "image/png": "[encoded data removed]",
      "text/plain": [
       "<Figure size 640x480 with 1 Axes>"
      ]
     },
     "metadata": {},
     "output_type": "display_data"
    }
   ],
   "source": [
    "best_param = ({'seq_len': 24, 'batch_size': 256},\n",
    "              {'model_type': 'gru', 'num_layers': 1, 'hidden_size': 100},\n",
    "              {'optim_type': 'rmsprop', 'lr': 0.001})\n",
    "output_size=1\n",
    "seq_train_x_ori, seq_train_y_ori, train_mase_ori, seq_test_x_ori, seq_test_y_ori, test_mase_ori = [], [], [], [], [], []\n",
    "for country in country_list:\n",
    "    seq_train_x, seq_train_y, train_mase, seq_test_x, seq_test_y, test_mase = sliding_window(all_data[country], input_len=best_param[0]['seq_len'], \n",
    "                                                                      output_len=output_size, test_size=12)\n",
    "    temp_country = [country] * len(seq_train_x)\n",
    "    seq_train_x_ori.extend(seq_train_x)\n",
    "    seq_train_y_ori.append(seq_train_y)\n",
    "    seq_test_x_ori.extend(seq_test_x)\n",
    "    seq_test_y_ori.append(seq_test_y)\n",
    "    train_mase_ori.append(train_mase)\n",
    "    test_mase_ori.append(test_mase)\n",
    "seq_train_y_ori = np.concatenate(seq_train_y_ori).squeeze()\n",
    "seq_test_y_ori = np.concatenate(seq_test_y_ori).squeeze()\n",
    "train_mase_ori = np.concatenate(train_mase_ori).squeeze()\n",
    "test_mase_ori = np.concatenate(test_mase_ori).squeeze()\n",
    "\n",
    "model = ForecastModel(**best_param[1], input_size=18, output_size=output_size, conditional_labels=country_list)\n",
    "optimizer = get_torch_optimizer(best_param[2]['optim_type'], model.parameters(), lr=best_param[2]['lr'])\n",
    "criterion = get_torch_criterion('mase')\n",
    "\n",
    "train_dataset = TimeSeriesDataset(seq_train_x_ori, seq_train_y_ori, mases=train_mase_ori)# (model.num_layers, model.hidden_size))\n",
    "test_dataset = TimeSeriesDataset(seq_test_x_ori, seq_test_y_ori, mases=test_mase_ori)# (model.num_layers, model.hidden_size))\n",
    "train_dataloader = DataLoader(train_dataset, shuffle=True, batch_size=best_param[0]['batch_size'], pin_memory=True)\n",
    "test_dataloader = DataLoader(test_dataset, shuffle=False, batch_size=1, pin_memory=True)\n",
    "\n",
    "model, train_losses, val_losses = train_rnn(model, criterion, optimizer, train_dataloader, test_dataloader, cuda=True, epochs=50, mase=True)\n",
    "plt.plot(train_losses, label='train')\n",
    "plt.plot(val_losses, label='val')\n",
    "plt.legend();"
   ]
  },
  {
   "cell_type": "code",
   "execution_count": 67,
   "id": "9cf38b41-62bc-41b9-a907-6702550157b8",
   "metadata": {
    "scrolled": true,
    "tags": []
   },
   "outputs": [],
   "source": [
    "# rnn_preds, _ = eval_rnn(model, criterion, test_dataloader)\n",
    "\n",
    "# auto regressive predictions\n",
    "model.eval()\n",
    "rnn_preds, rnn_gts = [], []\n",
    "for country in all_data.keys():\n",
    "    test_x_, test_y_ = zip(*[(x.copy(), y.copy()) for x, y in zip(seq_test_x_ori, seq_test_y_ori) if x['Country'].unique()[0] == country])\n",
    "    preds = []\n",
    "    for i in range(len(test_x_)):\n",
    "        if i > 0:\n",
    "            last_pred = np.concatenate(preds)[-len(test_x_[i]):]\n",
    "            test_x_[i].iloc[-len(last_pred):, test_x_[i].columns.get_loc('VisitorArrivals')] = last_pred\n",
    "        with torch.no_grad():\n",
    "            init_state = model.get_embeddings([country])\n",
    "            x_input = torch.from_numpy(test_x_[i].drop(columns='Country').to_numpy()).float().unsqueeze(0)\n",
    "            init_state, x_input = init_state.cuda(), x_input.cuda()\n",
    "            pred = model(x_input, init_state).detach().cpu().numpy()\n",
    "        preds.append(pred)\n",
    "        \n",
    "    preds = np.concatenate(preds)\n",
    "    gts = np.asarray(test_y_)\n",
    "    rnn_preds.append(preds)\n",
    "    rnn_gts.append(gts)\n",
    "\n",
    "rnn_preds = np.asarray(rnn_preds)\n",
    "rnn_gts = np.asarray(rnn_gts)"
   ]
  },
  {
   "cell_type": "code",
   "execution_count": 68,
   "id": "dc860506-3d74-4433-b02e-21c97ad36c59",
   "metadata": {},
   "outputs": [],
   "source": [
    "rnn_os_pred, rnn_gt = [], []\n",
    "\n",
    "# for i in range(len(test_dataset)):\n",
    "#     country, ds_x, ds_y = test_dataset.__getitem__(i)\n",
    "for i, country in enumerate(all_data.keys()):\n",
    "    ds_y = rnn_gts[i]\n",
    "    rnn_os_pred.append(inverse_target(rnn_preds[i], all_decomposed_seasonal[country].seasonal.loc[all_test_y[i].index - pd.DateOffset(years=4)].values if deduct_seasonality else 0.,\n",
    "                                   y_scaler if single_y_scaler else y_scaler[country]))\n",
    "    rnn_gt.append(inverse_target(ds_y, all_decomposed_seasonal[country].seasonal.loc[all_test_y[i].index - pd.DateOffset(years=4)].values if deduct_seasonality else 0.,\n",
    "                                 y_scaler if single_y_scaler else y_scaler[country]))\n",
    "    \n",
    "rnn_gt = np.concatenate(rnn_gt)\n",
    "rnn_os_pred = np.concatenate(rnn_os_pred)"
   ]
  },
  {
   "cell_type": "code",
   "execution_count": 69,
   "id": "707fe6b8-ba80-4935-b27c-368089161ebb",
   "metadata": {},
   "outputs": [
    {
     "data": {
      "text/plain": [
       "True"
      ]
     },
     "execution_count": 69,
     "metadata": {},
     "output_type": "execute_result"
    }
   ],
   "source": [
    "(rnn_gt == all_y).all()"
   ]
  },
  {
   "cell_type": "code",
   "execution_count": 70,
   "id": "d5ffbf3c-597e-46ca-b842-474c63f81804",
   "metadata": {},
   "outputs": [
    {
     "name": "stdout",
     "output_type": "stream",
     "text": [
      "RNN RMSE: 302474.55317\n",
      "RNN R2: 0.89435\n",
      "RNN MAE: 90026.57540\n",
      "RNN MAPE: 0.21364\n",
      "RNN MASE: 2.16298\n"
     ]
    }
   ],
   "source": [
    "rnn_rmse = sqrt(mean_squared_error(all_y, rnn_os_pred))\n",
    "rnn_r2 = r2_score(all_y, rnn_os_pred)\n",
    "rnn_mae = mean_absolute_error(all_y, rnn_os_pred)\n",
    "rnn_mape = mean_absolute_percentage_error(all_y, rnn_os_pred)\n",
    "rnn_mase = mean_absolute_scaled_error(all_y, rnn_os_pred, y_mase_scales)\n",
    "print(f'RNN RMSE: {rnn_rmse:.5f}\\nRNN R2: {rnn_r2:.5f}\\nRNN MAE: {rnn_mae:.5f}'\n",
    "      f'\\nRNN MAPE: {rnn_mape:.5f}\\nRNN MASE: {rnn_mase:.5f}')"
   ]
  },
  {
   "cell_type": "markdown",
   "id": "880018a6-3279-42d4-9460-8ded60ef4e92",
   "metadata": {},
   "source": [
    "### Separate RNN models"
   ]
  },
  {
   "cell_type": "code",
   "execution_count": 74,
   "id": "d0c64032-f6f1-434f-8d68-bbbe05708717",
   "metadata": {},
   "outputs": [],
   "source": [
    "country_feat = [#'GDPPerCap', 'GDP', 'Population',\n",
    "                'Temperature', 'Precipitation',]\n",
    "universal_feat = ['FXAgainstChina', 'FSI', 'Country', \n",
    "                   'GDPRatioChina', 'Unrest', 'Month', 'Year',\n",
    "                   'GDPPerCapRatioChina', 'GDPGrowthDiffChina', 'GDPPerCapGrowthDiffChina',\n",
    "                   'ChinaConfinementPolicy', 'ChinaMovementPolicy', 'ChinaGDPPerCap',\n",
    "                   'ChinaGDP', 'TravelRestriction']\n",
    "# static_feat = ['DistFromChina', 'Popularity']"
   ]
  },
  {
   "cell_type": "code",
   "execution_count": null,
   "id": "8badd384-ef29-45f2-bfde-82c420402089",
   "metadata": {
    "scrolled": true,
    "tags": []
   },
   "outputs": [],
   "source": [
    "best_param = ({'seq_len': 24, 'batch_size': 64}, \n",
    "              {'model_type': 'gru', 'num_layers': 1, 'hidden_size': 20}, \n",
    "              {'optim_type': 'nadam', 'lr': 0.001})\n",
    "\n",
    "rnn_sep_pred, rnn_sep_gt = [], []\n",
    "for i, country in enumerate(country_list):\n",
    "    print(country)\n",
    "    seq_train_x, seq_train_y, train_mase, seq_test_x, seq_test_y, test_mase = sliding_window(all_data[country], input_len=best_param[0]['seq_len'], \n",
    "                                                                      output_len=12, test_size=1)\n",
    "\n",
    "    model = ForecastModel(**best_param[1], input_size=17, output_size=12, conditional_labels=country_list)\n",
    "    optimizer = get_torch_optimizer(best_param[2]['optim_type'], model.parameters(), lr=best_param[2]['lr'])\n",
    "    criterion = get_torch_criterion('mase')\n",
    "\n",
    "    train_dataset = TimeSeriesDataset(seq_train_x, seq_train_y, mases=train_mase)# (model.num_layers, model.hidden_size))\n",
    "    test_dataset = TimeSeriesDataset(seq_test_x, seq_test_y, mases=test_mase)# (model.num_layers, model.hidden_size))\n",
    "    train_dataloader = DataLoader(train_dataset, shuffle=True, batch_size=best_param[0]['batch_size'], pin_memory=True)\n",
    "    test_dataloader = DataLoader(test_dataset, shuffle=False, batch_size=1, pin_memory=True)\n",
    "\n",
    "    model, train_losses, val_losses = train_rnn(model, criterion, optimizer, train_dataloader, test_dataloader, early_stop_patience=10, cuda=True, epochs=100, mase=True)\n",
    "    plt.plot(train_losses, label='train')\n",
    "    plt.plot(val_losses, label='val')\n",
    "    plt.title(country)\n",
    "    plt.legend()\n",
    "    plt.show()\n",
    "    \n",
    "    rnn_preds, _ = eval_rnn(model, criterion, test_dataloader, mase=True)\n",
    "\n",
    "    _, ds_x, ds_y, _ = test_dataset.__getitem__(0)\n",
    "    rnn_sep_pred.append(inverse_target(rnn_preds[0], all_decomposed_seasonal[country].seasonal.loc[all_test_y[i].index - pd.DateOffset(years=4)].values if deduct_seasonality else 0.,\n",
    "                                   y_scaler if single_y_scaler else y_scaler[country]))\n",
    "    rnn_sep_gt.append(inverse_target(ds_y, all_decomposed_seasonal[country].seasonal.loc[all_test_y[i].index - pd.DateOffset(years=4)].values if deduct_seasonality else 0.,\n",
    "                                 y_scaler if single_y_scaler else y_scaler[country]))\n",
    "\n",
    "rnn_sep_gt = np.concatenate(rnn_sep_gt)\n",
    "rnn_sep_pred = np.concatenate(rnn_sep_pred)"
   ]
  },
  {
   "cell_type": "code",
   "execution_count": 76,
   "id": "574e173f-e0d9-43c6-a045-14a858e70ff9",
   "metadata": {},
   "outputs": [
    {
     "name": "stdout",
     "output_type": "stream",
     "text": [
      "RNN Sep RMSE: 323575.33247\n",
      "RNN Sep R2: 0.87910\n",
      "RNN Sep MAE: 107790.53889\n",
      "RNN Sep MAPE: 0.21790\n",
      "RNN Sep MASE: 2.41849\n"
     ]
    }
   ],
   "source": [
    "rnn_sep_rmse = sqrt(mean_squared_error(all_y, rnn_sep_pred))\n",
    "rnn_sep_r2 = r2_score(all_y, rnn_sep_pred)\n",
    "rnn_sep_mae = mean_absolute_error(all_y, rnn_sep_pred)\n",
    "rnn_sep_mape = mean_absolute_percentage_error(all_y, rnn_sep_pred)\n",
    "rnn_sep_mase = mean_absolute_scaled_error(all_y, rnn_sep_pred, y_mase_scales)\n",
    "print(f'RNN Sep RMSE: {rnn_sep_rmse:.5f}\\nRNN Sep R2: {rnn_sep_r2:.5f}\\nRNN Sep MAE: {rnn_sep_mae:.5f}'\n",
    "      f'\\nRNN Sep MAPE: {rnn_sep_mape:.5f}\\nRNN Sep MASE: {rnn_sep_mase:.5f}')"
   ]
  },
  {
   "cell_type": "markdown",
   "id": "3906087e-cb98-44e4-ab8d-e3392efd6e24",
   "metadata": {},
   "source": [
    "### Ensemble RNN models"
   ]
  },
  {
   "cell_type": "code",
   "execution_count": 78,
   "id": "7ffaf931-c7e3-4697-8608-7966a2c29b17",
   "metadata": {},
   "outputs": [
    {
     "name": "stdout",
     "output_type": "stream",
     "text": [
      "Weight: 0.0, RMSE: 302474.55317\n",
      "Weight: 0.1, RMSE: 296272.11309\n",
      "Weight: 0.2, RMSE: 291860.06555\n",
      "Weight: 0.3, RMSE: 289320.33099\n",
      "Weight: 0.4, RMSE: 288702.32625\n",
      "Weight: 0.5, RMSE: 290018.33672\n",
      "Weight: 0.6, RMSE: 293242.32518\n",
      "Weight: 0.7, RMSE: 298312.43707\n",
      "Weight: 0.8, RMSE: 305136.66142\n",
      "Weight: 0.9, RMSE: 313600.50601\n"
     ]
    }
   ],
   "source": [
    "for w in range(10):\n",
    "    w = w / 10\n",
    "    ensemble_pred = w * rnn_sep_pred + (1 - w) * rnn_os_pred\n",
    "    ens_rmse = sqrt(mean_squared_error(all_y, ensemble_pred))\n",
    "    print(f'Weight: {w}, RMSE: {ens_rmse:.5f}')\n",
    "w = 0.4\n",
    "ensemble_pred = w * rnn_sep_pred + (1 - w) * rnn_os_pred"
   ]
  },
  {
   "cell_type": "code",
   "execution_count": 79,
   "id": "810fb324-3226-4bb2-9ded-2c0f6423961e",
   "metadata": {},
   "outputs": [
    {
     "name": "stdout",
     "output_type": "stream",
     "text": [
      "RNN Ensemble RMSE: 288702.32625\n",
      "RNN Ensemble R2: 0.90375\n",
      "RNN Ensemble MAE: 94801.41409\n",
      "RNN Ensemble MAPE: 0.20519\n",
      "RNN Ensemble MASE: 2.17164\n"
     ]
    }
   ],
   "source": [
    "rnn_ens_rmse = sqrt(mean_squared_error(all_y, ensemble_pred))\n",
    "rnn_ens_r2 = r2_score(all_y, ensemble_pred)\n",
    "rnn_ens_mae = mean_absolute_error(all_y, ensemble_pred)\n",
    "rnn_ens_mape = mean_absolute_percentage_error(all_y, ensemble_pred)\n",
    "rnn_ens_mase = mean_absolute_scaled_error(all_y, ensemble_pred, y_mase_scales)\n",
    "\n",
    "print(f'RNN Ensemble RMSE: {rnn_ens_rmse:.5f}\\nRNN Ensemble R2: {rnn_ens_r2:.5f}\\nRNN Ensemble MAE: {rnn_ens_mae:.5f}'\n",
    "      f'\\nRNN Ensemble MAPE: {rnn_ens_mape:.5f}\\nRNN Ensemble MASE: {rnn_ens_mase:.5f}')"
   ]
  },
  {
   "cell_type": "code",
   "execution_count": null,
   "id": "f4a84166-1094-4af8-9aaf-f21c9de61733",
   "metadata": {},
   "outputs": [],
   "source": []
  },
  {
   "cell_type": "markdown",
   "id": "ecc2cc98-d3ea-49a0-b14d-80eb7887be8b",
   "metadata": {},
   "source": [
    "# One Hot Temporal Features\n",
    "### RNN"
   ]
  },
  {
   "cell_type": "code",
   "execution_count": 80,
   "id": "d30e3add-e8c9-4a3e-86c1-e83c638e1d1e",
   "metadata": {},
   "outputs": [
    {
     "data": {
      "text/plain": [
       "Index(['FXAgainstChina', 'CovidCases', 'CovidDeaths', 'FSI', 'GDPPerCap',\n",
       "       'GDP', 'Population', 'TravelPolicy', 'Temperature', 'Precipitation',\n",
       "       'GlobalCovidTrend', 'DistFromChina', 'Country', 'GDPRatioChina',\n",
       "       'GDPPerCapRatioChina', 'GDPGrowthDiffChina', 'GDPPerCapGrowthDiffChina',\n",
       "       'ChinaConfinementPolicy', 'ChinaMovementPolicy', 'ChinaGDPPerCap',\n",
       "       'ChinaGDP', 'VisitorArrivals', 'Popularity', 'Unrest',\n",
       "       'TravelRestriction', 'Year', 'MonthSin', 'MonthCos', 'Month', 'Month_1',\n",
       "       'Month_10', 'Month_11', 'Month_12', 'Month_2', 'Month_3', 'Month_4',\n",
       "       'Month_5', 'Month_6', 'Month_7', 'Month_8', 'Month_9'],\n",
       "      dtype='object')"
      ]
     },
     "execution_count": 80,
     "metadata": {},
     "output_type": "execute_result"
    }
   ],
   "source": [
    "all_data[country].columns"
   ]
  },
  {
   "cell_type": "code",
   "execution_count": 81,
   "id": "96029db7-711d-45fc-8fc8-177f19c44aee",
   "metadata": {},
   "outputs": [],
   "source": [
    "country_feat = [#'GDPPerCap', 'GDP', 'Population',\n",
    "                'Temperature', 'Precipitation',]\n",
    "universal_feat = ['FXAgainstChina', 'FSI', 'Country', \n",
    "                   'GDPRatioChina', 'Unrest', 'Year',\n",
    "                   'GDPPerCapRatioChina', 'GDPGrowthDiffChina', 'GDPPerCapGrowthDiffChina',\n",
    "                   'ChinaConfinementPolicy', 'ChinaMovementPolicy', 'ChinaGDPPerCap',\n",
    "                   'ChinaGDP', 'Popularity', 'TravelRestriction'] + ['Month_'+str(i) for i in range(1, 13)]\n",
    "# static_feat = ['DistFromChina']\n",
    "target = 'VisitorArrivals'\n",
    "def sliding_window(df, input_len=100, output_len=12, test_size=1,):\n",
    "    df = df.copy().dropna()\n",
    "    x, y, mase = [], [], []\n",
    "    if input_len <= 0:  # <=0 is full length\n",
    "        input_len = len(df) - test_size * output_len * 2\n",
    "\n",
    "    for i in range(len(df) - input_len - output_len + 1):\n",
    "        x.append(df[country_feat + universal_feat + [target]].iloc[i: i + input_len])\n",
    "        y.append(df[target].iloc[i + input_len: i + input_len + output_len].values)\n",
    "        m = []\n",
    "        for j in range(output_len):\n",
    "            m.append(compute_mase_scale(df[target].iloc[: i + input_len + j].values, h=0))\n",
    "        mase.append(m)\n",
    "    y = np.asarray(y)\n",
    "    mase = np.asarray(mase)\n",
    "    return x[:-test_size*output_len], y[:-test_size*output_len], mase[:-test_size*output_len], x[-test_size:], y[-test_size:], mase[-test_size:]"
   ]
  },
  {
   "cell_type": "code",
   "execution_count": 82,
   "id": "cec4642c-e0a5-4036-a14d-67538b4f454e",
   "metadata": {},
   "outputs": [],
   "source": [
    "output_size=12\n",
    "seq_train_x_ori, seq_train_y_ori, seq_test_x_ori, seq_test_y_ori = [], [], [], []\n",
    "for country in country_list:\n",
    "    seq_train_x, seq_train_y, _, seq_test_x, seq_test_y, _ = sliding_window(all_data[country], input_len=60, \n",
    "                                                                      output_len=12, test_size=1)\n",
    "    temp_country = [country] * len(seq_train_x)\n",
    "    seq_train_x_ori.extend(seq_train_x)\n",
    "    seq_train_y_ori.append(seq_train_y)\n",
    "    seq_test_x_ori.extend(seq_test_x)\n",
    "    seq_test_y_ori.append(seq_test_y)\n",
    "seq_train_y_ori = np.concatenate(seq_train_y_ori)\n",
    "seq_test_y_ori = np.concatenate(seq_test_y_ori)"
   ]
  },
  {
   "cell_type": "code",
   "execution_count": 83,
   "id": "ac6f683c-1f97-41f4-b64c-60a6f3d43c5c",
   "metadata": {},
   "outputs": [
    {
     "data": {
      "text/plain": [
       "29"
      ]
     },
     "execution_count": 83,
     "metadata": {},
     "output_type": "execute_result"
    }
   ],
   "source": [
    "len(country_feat + universal_feat)"
   ]
  },
  {
   "cell_type": "code",
   "execution_count": 85,
   "id": "36a27a88-d995-4aa0-9ad2-39a32f9b4953",
   "metadata": {
    "scrolled": true,
    "tags": []
   },
   "outputs": [
    {
     "name": "stdout",
     "output_type": "stream",
     "text": [
      "Epoch 0: train loss 1.9179, val loss 1.2755, time 1.3673\n",
      "Epoch 1: train loss 0.9482, val loss 1.0881, time 1.1825\n",
      "Epoch 2: train loss 0.8237, val loss 0.8979, time 1.1874\n",
      "Epoch 3: train loss 0.7857, val loss 0.9074, time 1.1860\n",
      "Epoch 4: train loss 0.7717, val loss 0.8709, time 1.1797\n",
      "Epoch 5: train loss 0.7455, val loss 0.8555, time 1.1863\n",
      "Epoch 6: train loss 0.7419, val loss 0.8546, time 1.1947\n",
      "Epoch 7: train loss 0.7400, val loss 0.9115, time 1.1956\n",
      "Epoch 8: train loss 0.7232, val loss 0.8265, time 1.1870\n",
      "Epoch 9: train loss 0.7271, val loss 0.8851, time 1.1799\n",
      "Epoch 10: train loss 0.7226, val loss 0.8331, time 1.1813\n",
      "Epoch 11: train loss 0.7058, val loss 0.8970, time 1.2729\n",
      "Epoch 12: train loss 0.7048, val loss 0.9139, time 1.1653\n",
      "Epoch 13: train loss 0.7114, val loss 0.8404, time 1.1807\n",
      "Early stopping as no improvement in val loss\n"
     ]
    },
    {
     "data": {
      "image/png": "[encoded data removed]",
      "text/plain": [
       "<Figure size 640x480 with 1 Axes>"
      ]
     },
     "metadata": {},
     "output_type": "display_data"
    }
   ],
   "source": [
    "best_param = ({'seq_len': 24, 'batch_size': 128},\n",
    "              {'model_type': 'gru', 'num_layers': 3, 'hidden_size': 50},\n",
    "              {'optim_type': 'nadam', 'lr': 0.001})\n",
    "\n",
    "output_size=12\n",
    "seq_train_x_ori, seq_train_y_ori, train_mase_ori, seq_test_x_ori, seq_test_y_ori, test_mase_ori = [], [], [], [], [], []\n",
    "for country in country_list:\n",
    "    seq_train_x, seq_train_y, train_mase, seq_test_x, seq_test_y, test_mase = sliding_window(all_data[country], input_len=best_param[0]['seq_len'], \n",
    "                                                                                          output_len=output_size, test_size=1)\n",
    "    temp_country = [country] * len(seq_train_x)\n",
    "    seq_train_x_ori.extend(seq_train_x)\n",
    "    seq_train_y_ori.append(seq_train_y)\n",
    "    seq_test_x_ori.extend(seq_test_x)\n",
    "    seq_test_y_ori.append(seq_test_y)\n",
    "    train_mase_ori.append(train_mase)\n",
    "    test_mase_ori.append(test_mase)\n",
    "seq_train_y_ori = np.concatenate(seq_train_y_ori)\n",
    "seq_test_y_ori = np.concatenate(seq_test_y_ori)\n",
    "train_mase_ori = np.concatenate(train_mase_ori)\n",
    "test_mase_ori = np.concatenate(test_mase_ori)\n",
    "\n",
    "model = ForecastModel(**best_param[1], input_size=29, output_size=output_size, conditional_labels=country_list)\n",
    "optimizer = get_torch_optimizer(best_param[2]['optim_type'], model.parameters(), lr=best_param[2]['lr'])\n",
    "criterion = get_torch_criterion('mase')\n",
    "\n",
    "train_dataset = TimeSeriesDataset(seq_train_x_ori, seq_train_y_ori, mases=train_mase_ori)# (model.num_layers, model.hidden_size))\n",
    "test_dataset = TimeSeriesDataset(seq_test_x_ori, seq_test_y_ori, mases=test_mase_ori)# (model.num_layers, model.hidden_size))\n",
    "train_dataloader = DataLoader(train_dataset, shuffle=True, batch_size=best_param[0]['batch_size'], pin_memory=True)\n",
    "test_dataloader = DataLoader(test_dataset, shuffle=False, batch_size=1, pin_memory=True)\n",
    "\n",
    "model, train_losses, val_losses = train_rnn(model, criterion, optimizer, train_dataloader, test_dataloader, cuda=True, epochs=50, mase=True)\n",
    "plt.plot(train_losses, label='train')\n",
    "plt.plot(val_losses, label='val')\n",
    "plt.legend();"
   ]
  },
  {
   "cell_type": "code",
   "execution_count": 86,
   "id": "3b60bc4f-3645-457b-8f4a-ef1a99987d62",
   "metadata": {
    "scrolled": true,
    "tags": []
   },
   "outputs": [],
   "source": [
    "rnn_preds, _ = eval_rnn(model, criterion, test_dataloader, mase=True)"
   ]
  },
  {
   "cell_type": "code",
   "execution_count": 87,
   "id": "bed9883f-8a69-4b37-b457-0cc83c35de0b",
   "metadata": {},
   "outputs": [],
   "source": [
    "rnn_pred, rnn_gt = [], []\n",
    "\n",
    "for i in range(len(test_dataset)):\n",
    "    country, ds_x, ds_y, _ = test_dataset.__getitem__(i)\n",
    "# for i, country in enumerate(all_data.keys()):\n",
    "#     ds_y = rnn_gts[i]\n",
    "    rnn_pred.append(inverse_target(rnn_preds[i], all_decomposed_seasonal[country].seasonal.loc[all_test_y[i].index - pd.DateOffset(years=4)].values if deduct_seasonality else 0.,\n",
    "                                   y_scaler if single_y_scaler else y_scaler[country]))\n",
    "    rnn_gt.append(inverse_target(ds_y, all_decomposed_seasonal[country].seasonal.loc[all_test_y[i].index - pd.DateOffset(years=4)].values if deduct_seasonality else 0.,\n",
    "                                 y_scaler if single_y_scaler else y_scaler[country]))\n",
    "rnn_gt = np.concatenate(rnn_gt)\n",
    "rnn_pred = np.concatenate(rnn_pred)"
   ]
  },
  {
   "cell_type": "code",
   "execution_count": 88,
   "id": "76089173-bff8-4154-af8e-36545a3a028a",
   "metadata": {},
   "outputs": [
    {
     "data": {
      "text/plain": [
       "True"
      ]
     },
     "execution_count": 88,
     "metadata": {},
     "output_type": "execute_result"
    }
   ],
   "source": [
    "(all_y == rnn_gt).all()"
   ]
  },
  {
   "cell_type": "code",
   "execution_count": 89,
   "id": "c616b362-dcaf-427b-bd06-8f57ae9a7991",
   "metadata": {},
   "outputs": [
    {
     "name": "stdout",
     "output_type": "stream",
     "text": [
      "RNN RMSE: 415218.54368\n",
      "RNN R2: 0.80092\n",
      "RNN MAE: 117720.47590\n",
      "RNN MAPE: 0.27256\n",
      "RNN MASE: 2.69457\n"
     ]
    }
   ],
   "source": [
    "rnn_rmse = sqrt(mean_squared_error(all_y, rnn_pred))\n",
    "rnn_r2 = r2_score(all_y, rnn_pred)\n",
    "rnn_mae = mean_absolute_error(all_y, rnn_pred)\n",
    "rnn_mape = mean_absolute_percentage_error(all_y, rnn_pred)\n",
    "rnn_mase = mean_absolute_scaled_error(all_y, rnn_pred, y_mase_scales)\n",
    "print(f'RNN RMSE: {rnn_rmse:.5f}\\nRNN R2: {rnn_r2:.5f}'\n",
    "      f'\\nRNN MAE: {rnn_mae:.5f}\\nRNN MAPE: {rnn_mape:.5f}\\nRNN MASE: {rnn_mase:.5f}')"
   ]
  },
  {
   "cell_type": "markdown",
   "id": "e5c4e2c0-1be6-4115-baee-5a6727ccdba1",
   "metadata": {},
   "source": [
    "## One Step RNN"
   ]
  },
  {
   "cell_type": "code",
   "execution_count": 111,
   "id": "20912460-606e-4510-b5a7-108bcd348ecc",
   "metadata": {},
   "outputs": [],
   "source": [
    "country_feat = [#'GDPPerCap', 'GDP', 'Population',\n",
    "                'Temperature', 'Precipitation',]\n",
    "universal_feat = ['FXAgainstChina', 'FSI', 'Country', \n",
    "                   'GDPRatioChina', 'Unrest', 'Year',\n",
    "                   'GDPPerCapRatioChina', 'GDPGrowthDiffChina', 'GDPPerCapGrowthDiffChina',\n",
    "                   'ChinaConfinementPolicy', 'ChinaMovementPolicy', 'ChinaGDPPerCap',\n",
    "                   'ChinaGDP', 'Popularity', 'TravelRestriction'] + ['Month_'+str(i) for i in range(1, 13)]\n",
    "# static_feat = ['DistFromChina']\n",
    "target = 'VisitorArrivals'"
   ]
  },
  {
   "cell_type": "code",
   "execution_count": 112,
   "id": "26af1750-52c4-4caa-9772-1a532f9fe3cf",
   "metadata": {
    "scrolled": true,
    "tags": []
   },
   "outputs": [
    {
     "name": "stdout",
     "output_type": "stream",
     "text": [
      "Epoch 0: train loss 2.0481, val loss 1.1770, time 1.6394\n",
      "Epoch 1: train loss 1.0943, val loss 0.9512, time 1.4430\n",
      "Epoch 2: train loss 0.7421, val loss 0.6625, time 1.4681\n",
      "Epoch 3: train loss 0.6248, val loss 0.7232, time 1.4403\n",
      "Epoch 4: train loss 0.6022, val loss 0.6259, time 1.4390\n",
      "Epoch 5: train loss 0.5590, val loss 0.5423, time 1.4358\n",
      "Epoch 6: train loss 0.5423, val loss 0.7846, time 1.4527\n",
      "Epoch 7: train loss 0.5414, val loss 0.5274, time 1.4399\n",
      "Epoch 8: train loss 0.5262, val loss 0.7161, time 1.4273\n",
      "Epoch 9: train loss 0.5451, val loss 0.5827, time 1.4323\n",
      "Epoch 10: train loss 0.5283, val loss 0.4964, time 1.4286\n",
      "Epoch 11: train loss 0.4982, val loss 0.4780, time 1.4288\n",
      "Epoch 12: train loss 0.5035, val loss 0.7023, time 1.4409\n",
      "Epoch 13: train loss 0.5197, val loss 0.6440, time 1.4418\n",
      "Epoch 14: train loss 0.5117, val loss 0.5206, time 1.4381\n",
      "Early stopping as no improvement in val loss\n"
     ]
    },
    {
     "data": {
      "image/png": "[encoded data removed]",
      "text/plain": [
       "<Figure size 640x480 with 1 Axes>"
      ]
     },
     "metadata": {},
     "output_type": "display_data"
    }
   ],
   "source": [
    "best_param = ({'seq_len': 24, 'batch_size': 256},\n",
    "              {'model_type': 'gru', 'num_layers': 1, 'hidden_size': 100},\n",
    "              {'optim_type': 'rmsprop', 'lr': 0.001})\n",
    "output_size=1\n",
    "seq_train_x_ori, seq_train_y_ori, train_mase_ori, seq_test_x_ori, seq_test_y_ori, test_mase_ori = [], [], [], [], [], []\n",
    "for country in country_list:\n",
    "    seq_train_x, seq_train_y, train_mase, seq_test_x, seq_test_y, test_mase = sliding_window(all_data[country], input_len=best_param[0]['seq_len'], \n",
    "                                                                      output_len=output_size, test_size=12)\n",
    "    temp_country = [country] * len(seq_train_x)\n",
    "    seq_train_x_ori.extend(seq_train_x)\n",
    "    seq_train_y_ori.append(seq_train_y)\n",
    "    seq_test_x_ori.extend(seq_test_x)\n",
    "    seq_test_y_ori.append(seq_test_y)\n",
    "    train_mase_ori.append(train_mase)\n",
    "    test_mase_ori.append(test_mase)\n",
    "seq_train_y_ori = np.concatenate(seq_train_y_ori).squeeze()\n",
    "seq_test_y_ori = np.concatenate(seq_test_y_ori).squeeze()\n",
    "train_mase_ori = np.concatenate(train_mase_ori).squeeze()\n",
    "test_mase_ori = np.concatenate(test_mase_ori).squeeze()\n",
    "\n",
    "model = ForecastModel(**best_param[1], input_size=29, output_size=output_size, conditional_labels=country_list)\n",
    "optimizer = get_torch_optimizer(best_param[2]['optim_type'], model.parameters(), lr=best_param[2]['lr'])\n",
    "criterion = get_torch_criterion('mase')\n",
    "\n",
    "train_dataset = TimeSeriesDataset(seq_train_x_ori, seq_train_y_ori, mases=train_mase_ori)# (model.num_layers, model.hidden_size))\n",
    "test_dataset = TimeSeriesDataset(seq_test_x_ori, seq_test_y_ori, mases=test_mase_ori)# (model.num_layers, model.hidden_size))\n",
    "train_dataloader = DataLoader(train_dataset, shuffle=True, batch_size=best_param[0]['batch_size'], pin_memory=True)\n",
    "test_dataloader = DataLoader(test_dataset, shuffle=False, batch_size=1, pin_memory=True)\n",
    "\n",
    "model, train_losses, val_losses = train_rnn(model, criterion, optimizer, train_dataloader, test_dataloader, cuda=True, epochs=50, mase=True)\n",
    "plt.plot(train_losses, label='train')\n",
    "plt.plot(val_losses, label='val')\n",
    "plt.legend();"
   ]
  },
  {
   "cell_type": "code",
   "execution_count": 113,
   "id": "0aefe802-cc79-4347-ba12-7f1003ba989d",
   "metadata": {
    "scrolled": true,
    "tags": []
   },
   "outputs": [],
   "source": [
    "# rnn_preds, _ = eval_rnn(model, criterion, test_dataloader)\n",
    "\n",
    "# auto regressive predictions\n",
    "model.eval()\n",
    "rnn_preds, rnn_gts = [], []\n",
    "for country in all_data.keys():\n",
    "    test_x_, test_y_ = zip(*[(x.copy(), y.copy()) for x, y in zip(seq_test_x_ori, seq_test_y_ori) if x['Country'].unique()[0] == country])\n",
    "    preds = []\n",
    "    for i in range(len(test_x_)):\n",
    "        if i > 0:\n",
    "            last_pred = np.concatenate(preds)[-len(test_x_[i]):]\n",
    "            test_x_[i].iloc[-len(last_pred):, test_x_[i].columns.get_loc('VisitorArrivals')] = last_pred\n",
    "        with torch.no_grad():\n",
    "            init_state = model.get_embeddings([country])\n",
    "            x_input = torch.from_numpy(test_x_[i].drop(columns='Country').to_numpy()).float().unsqueeze(0)\n",
    "            init_state, x_input = init_state.cuda(), x_input.cuda()\n",
    "            pred = model(x_input, init_state).detach().cpu().numpy()\n",
    "        preds.append(pred)\n",
    "        \n",
    "    preds = np.concatenate(preds)\n",
    "    gts = np.asarray(test_y_)\n",
    "    rnn_preds.append(preds)\n",
    "    rnn_gts.append(gts)\n",
    "\n",
    "rnn_preds = np.asarray(rnn_preds)\n",
    "rnn_gts = np.asarray(rnn_gts)"
   ]
  },
  {
   "cell_type": "code",
   "execution_count": 114,
   "id": "728f8d2a-e5c3-4490-a4ca-78edcf77d2a7",
   "metadata": {},
   "outputs": [],
   "source": [
    "rnn_os_pred, rnn_gt = [], []\n",
    "\n",
    "# for i in range(len(test_dataset)):\n",
    "#     country, ds_x, ds_y = test_dataset.__getitem__(i)\n",
    "for i, country in enumerate(all_data.keys()):\n",
    "    ds_y = rnn_gts[i]\n",
    "    rnn_os_pred.append(inverse_target(rnn_preds[i], all_decomposed_seasonal[country].seasonal.loc[all_test_y[i].index - pd.DateOffset(years=4)].values if deduct_seasonality else 0.,\n",
    "                                   y_scaler if single_y_scaler else y_scaler[country]))\n",
    "    rnn_gt.append(inverse_target(ds_y, all_decomposed_seasonal[country].seasonal.loc[all_test_y[i].index - pd.DateOffset(years=4)].values if deduct_seasonality else 0.,\n",
    "                                 y_scaler if single_y_scaler else y_scaler[country]))\n",
    "    \n",
    "rnn_gt = np.concatenate(rnn_gt)\n",
    "rnn_os_pred = np.concatenate(rnn_os_pred)"
   ]
  },
  {
   "cell_type": "code",
   "execution_count": 115,
   "id": "f540c010-d626-4185-8c30-9e1a2b10de65",
   "metadata": {},
   "outputs": [
    {
     "data": {
      "text/plain": [
       "True"
      ]
     },
     "execution_count": 115,
     "metadata": {},
     "output_type": "execute_result"
    }
   ],
   "source": [
    "(rnn_gt == all_y).all()"
   ]
  },
  {
   "cell_type": "code",
   "execution_count": 116,
   "id": "88934330-ffc1-4295-998e-82cf7d2ed7d3",
   "metadata": {},
   "outputs": [
    {
     "name": "stdout",
     "output_type": "stream",
     "text": [
      "RNN RMSE: 303705.80815\n",
      "RNN R2: 0.89349\n",
      "RNN MAE: 93441.65073\n",
      "RNN MAPE: 0.18646\n",
      "RNN MASE: 2.20677\n"
     ]
    }
   ],
   "source": [
    "rnn_rmse = sqrt(mean_squared_error(all_y, rnn_os_pred))\n",
    "rnn_r2 = r2_score(all_y, rnn_os_pred)\n",
    "rnn_mae = mean_absolute_error(all_y, rnn_os_pred)\n",
    "rnn_mape = mean_absolute_percentage_error(all_y, rnn_os_pred)\n",
    "rnn_mase = mean_absolute_scaled_error(all_y, rnn_os_pred, y_mase_scales)\n",
    "print(f'RNN RMSE: {rnn_rmse:.5f}\\nRNN R2: {rnn_r2:.5f}\\nRNN MAE: {rnn_mae:.5f}'\n",
    "      f'\\nRNN MAPE: {rnn_mape:.5f}\\nRNN MASE: {rnn_mase:.5f}')"
   ]
  },
  {
   "cell_type": "markdown",
   "id": "e281d2c6-bd6a-4de6-8d4c-10af528e78fd",
   "metadata": {},
   "source": [
    "### Separate RNN models"
   ]
  },
  {
   "cell_type": "code",
   "execution_count": 124,
   "id": "4129d460-ba3a-4bee-a5fb-7778172e782c",
   "metadata": {},
   "outputs": [],
   "source": [
    "country_feat = [#'GDPPerCap', 'GDP', 'Population',\n",
    "                'Temperature', 'Precipitation',]\n",
    "universal_feat = ['FXAgainstChina', 'FSI', 'Country', \n",
    "                   'GDPRatioChina', 'Unrest', 'Year',\n",
    "                   'GDPPerCapRatioChina', 'GDPGrowthDiffChina', 'GDPPerCapGrowthDiffChina',\n",
    "                   'ChinaConfinementPolicy', 'ChinaMovementPolicy', 'ChinaGDPPerCap',\n",
    "                   'ChinaGDP', 'TravelRestriction'] + ['Month_'+str(i) for i in range(1, 13)]\n",
    "# static_feat = ['DistFromChina', 'Popularity']"
   ]
  },
  {
   "cell_type": "code",
   "execution_count": null,
   "id": "ff309445-8d82-487a-8c56-ace7416cf426",
   "metadata": {
    "scrolled": true,
    "tags": []
   },
   "outputs": [],
   "source": [
    "best_param = ({'seq_len': 24, 'batch_size': 64}, \n",
    "              {'model_type': 'gru', 'num_layers': 1, 'hidden_size': 20}, \n",
    "              {'optim_type': 'nadam', 'lr': 0.001})\n",
    "\n",
    "rnn_sep_pred, rnn_sep_gt = [], []\n",
    "for i, country in enumerate(country_list):\n",
    "    print(country)\n",
    "    seq_train_x, seq_train_y, train_mase, seq_test_x, seq_test_y, test_mase = sliding_window(all_data[country], input_len=best_param[0]['seq_len'], \n",
    "                                                                      output_len=12, test_size=1)\n",
    "\n",
    "    model = ForecastModel(**best_param[1], input_size=28, output_size=12, conditional_labels=country_list)\n",
    "    optimizer = get_torch_optimizer(best_param[2]['optim_type'], model.parameters(), lr=best_param[2]['lr'])\n",
    "    criterion = get_torch_criterion('mase')\n",
    "\n",
    "    train_dataset = TimeSeriesDataset(seq_train_x, seq_train_y, mases=train_mase)# (model.num_layers, model.hidden_size))\n",
    "    test_dataset = TimeSeriesDataset(seq_test_x, seq_test_y, mases=test_mase)# (model.num_layers, model.hidden_size))\n",
    "    train_dataloader = DataLoader(train_dataset, shuffle=True, batch_size=best_param[0]['batch_size'], pin_memory=True)\n",
    "    test_dataloader = DataLoader(test_dataset, shuffle=False, batch_size=1, pin_memory=True)\n",
    "\n",
    "    model, train_losses, val_losses = train_rnn(model, criterion, optimizer, train_dataloader, test_dataloader, early_stop_patience=10, cuda=True, epochs=100, mase=True)\n",
    "    plt.plot(train_losses, label='train')\n",
    "    plt.plot(val_losses, label='val')\n",
    "    plt.title(country)\n",
    "    plt.legend()\n",
    "    plt.show()\n",
    "    \n",
    "    rnn_preds, _ = eval_rnn(model, criterion, test_dataloader, mase=True)\n",
    "\n",
    "    _, ds_x, ds_y, _ = test_dataset.__getitem__(0)\n",
    "    rnn_sep_pred.append(inverse_target(rnn_preds[0], all_decomposed_seasonal[country].seasonal.loc[all_test_y[i].index - pd.DateOffset(years=4)].values if deduct_seasonality else 0.,\n",
    "                                   y_scaler if single_y_scaler else y_scaler[country]))\n",
    "    rnn_sep_gt.append(inverse_target(ds_y, all_decomposed_seasonal[country].seasonal.loc[all_test_y[i].index - pd.DateOffset(years=4)].values if deduct_seasonality else 0.,\n",
    "                                 y_scaler if single_y_scaler else y_scaler[country]))\n",
    "\n",
    "rnn_sep_gt = np.concatenate(rnn_sep_gt)\n",
    "rnn_sep_pred = np.concatenate(rnn_sep_pred)"
   ]
  },
  {
   "cell_type": "code",
   "execution_count": 143,
   "id": "4ec767d8-9624-4075-9fd0-acae6d65706b",
   "metadata": {},
   "outputs": [
    {
     "name": "stdout",
     "output_type": "stream",
     "text": [
      "RNN Sep RMSE: 276752.47531\n",
      "RNN Sep R2: 0.91156\n",
      "RNN Sep MAE: 93658.52959\n",
      "RNN Sep MAPE: 0.18397\n",
      "RNN Sep MASE: 2.05913\n"
     ]
    }
   ],
   "source": [
    "rnn_sep_rmse = sqrt(mean_squared_error(all_y, rnn_sep_pred))\n",
    "rnn_sep_r2 = r2_score(all_y, rnn_sep_pred)\n",
    "rnn_sep_mae = mean_absolute_error(all_y, rnn_sep_pred)\n",
    "rnn_sep_mape = mean_absolute_percentage_error(all_y, rnn_sep_pred)\n",
    "rnn_sep_mase = mean_absolute_scaled_error(all_y, rnn_sep_pred, y_mase_scales)\n",
    "print(f'RNN Sep RMSE: {rnn_sep_rmse:.5f}\\nRNN Sep R2: {rnn_sep_r2:.5f}\\nRNN Sep MAE: {rnn_sep_mae:.5f}'\n",
    "      f'\\nRNN Sep MAPE: {rnn_sep_mape:.5f}\\nRNN Sep MASE: {rnn_sep_mase:.5f}')"
   ]
  },
  {
   "cell_type": "markdown",
   "id": "526abf88-b05e-4922-b373-40a99e11b379",
   "metadata": {},
   "source": [
    "### Ensemble RNN models"
   ]
  },
  {
   "cell_type": "code",
   "execution_count": 144,
   "id": "a152151b-9634-47ef-80be-27786c8db4d7",
   "metadata": {},
   "outputs": [
    {
     "name": "stdout",
     "output_type": "stream",
     "text": [
      "Weight: 0.0, RMSE: 303705.80815\n",
      "Weight: 0.1, RMSE: 292062.87166\n",
      "Weight: 0.2, RMSE: 282060.26811\n",
      "Weight: 0.3, RMSE: 273877.78194\n",
      "Weight: 0.4, RMSE: 267682.37668\n",
      "Weight: 0.5, RMSE: 263614.18945\n",
      "Weight: 0.6, RMSE: 261772.41589\n",
      "Weight: 0.7, RMSE: 262203.97654\n",
      "Weight: 0.8, RMSE: 264897.76076\n",
      "Weight: 0.9, RMSE: 269786.01288\n"
     ]
    }
   ],
   "source": [
    "for w in range(10):\n",
    "    w = w / 10\n",
    "    ensemble_pred = w * rnn_sep_pred + (1 - w) * rnn_os_pred\n",
    "    ens_rmse = sqrt(mean_squared_error(all_y, ensemble_pred))\n",
    "    print(f'Weight: {w}, RMSE: {ens_rmse:.5f}')\n",
    "w = 0.5\n",
    "ensemble_pred = w * rnn_sep_pred + (1 - w) * rnn_os_pred"
   ]
  },
  {
   "cell_type": "code",
   "execution_count": 145,
   "id": "eea1ab00-012f-41c3-a747-54f7042a7553",
   "metadata": {},
   "outputs": [
    {
     "name": "stdout",
     "output_type": "stream",
     "text": [
      "RNN Ensemble RMSE: 263614.18945\n",
      "RNN Ensemble R2: 0.91975\n",
      "RNN Ensemble MAE: 87591.95217\n",
      "RNN Ensemble MAPE: 0.17614\n",
      "RNN Ensemble MASE: 2.03554\n"
     ]
    }
   ],
   "source": [
    "rnn_ens_rmse = sqrt(mean_squared_error(all_y, ensemble_pred))\n",
    "rnn_ens_r2 = r2_score(all_y, ensemble_pred)\n",
    "rnn_ens_mae = mean_absolute_error(all_y, ensemble_pred)\n",
    "rnn_ens_mape = mean_absolute_percentage_error(all_y, ensemble_pred)\n",
    "rnn_ens_mase = mean_absolute_scaled_error(all_y, ensemble_pred, y_mase_scales)\n",
    "\n",
    "print(f'RNN Ensemble RMSE: {rnn_ens_rmse:.5f}\\nRNN Ensemble R2: {rnn_ens_r2:.5f}\\nRNN Ensemble MAE: {rnn_ens_mae:.5f}'\n",
    "      f'\\nRNN Ensemble MAPE: {rnn_ens_mape:.5f}\\nRNN Ensemble MASE: {rnn_ens_mase:.5f}')"
   ]
  },
  {
   "cell_type": "code",
   "execution_count": null,
   "id": "a6ef4a15-c02f-46fb-a09b-70b215bed37d",
   "metadata": {},
   "outputs": [],
   "source": []
  }
 ],
 "metadata": {
  "kernelspec": {
   "display_name": "tourism",
   "language": "python",
   "name": "tourism"
  },
  "language_info": {
   "codemirror_mode": {
    "name": "ipython",
    "version": 3
   },
   "file_extension": ".py",
   "mimetype": "text/x-python",
   "name": "python",
   "nbconvert_exporter": "python",
   "pygments_lexer": "ipython3",
   "version": "3.11.3"
  }
 },
 "nbformat": 4,
 "nbformat_minor": 5
}
